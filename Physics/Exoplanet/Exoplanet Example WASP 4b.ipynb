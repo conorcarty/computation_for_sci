{
 "cells": [
  {
   "cell_type": "markdown",
   "metadata": {},
   "source": [
    "# Astronomy: Exoplanet Transit Analysis"
   ]
  },
  {
   "cell_type": "markdown",
   "metadata": {},
   "source": [
    "In this exercise, you will be analysing data from the transit of the exoplanet WASP 4b around its host star, WASP 4. Just like our own Sun, lots of stars have one or more planets orbitting around them. These are called exoplanets. \n",
    "\n",
    "They were first detected by an experiment which watched the brightness of a star over a long period of time. What the astronomers noticed was that, periodically, the brightness of the star would decrease for a time before eventually returning to its usual level of brightness. This was interpretted as a planet passing in front of the the star and blocking some of its light, causing the star to appear dimmer to us. This method of exoplanet detection is called the transit method.\n",
    "\n",
    "\n",
    "Since the transit method was developed, it has been used to identify over 4,000 exoplanets in our galaxy. By observing the transit of an exoplanet in front of its host star, numerous features of the system can be calculated, including the radius of the planet. "
   ]
  },
  {
   "cell_type": "markdown",
   "metadata": {},
   "source": [
    "![alt text](img/Planet_transit_pillars.png \"Schematic of an Exoplanet Transit\")"
   ]
  },
  {
   "cell_type": "markdown",
   "metadata": {},
   "source": [
    "## Part 1 - Light Curve Calculations"
   ]
  },
  {
   "cell_type": "markdown",
   "metadata": {},
   "source": [
    "First we need to import two useful packages for analysing and displaying data - NumPy and Matplotlib. Run the following cell to import these tools."
   ]
  },
  {
   "cell_type": "code",
   "execution_count": 1,
   "metadata": {
    "collapsed": true
   },
   "outputs": [],
   "source": [
    "import numpy as np\n",
    "import matplotlib.pyplot as plt\n",
    "%matplotlib inline"
   ]
  },
  {
   "cell_type": "markdown",
   "metadata": {},
   "source": [
    "### a) Plot the light curve"
   ]
  },
  {
   "cell_type": "markdown",
   "metadata": {},
   "source": [
    "To visualise the transit of the exoplanet across its star, we need to create something called a light curve. This is a plot which shows how the brightness of the host star WASP 4 changes over time. Therefore, we need two data files: the times the star was observed at, and the brightnesses which were recorded for those times (known as 'flux').\n",
    "\n",
    "These can be found in the 'times.txt' (given in fractions of hours) and 'fluxes4b.txt' text files provided. In the following cell, use the np.loadtxt function to load in these data files, and plot flux as a function of time. Remember to label your axes."
   ]
  },
  {
   "cell_type": "code",
   "execution_count": 1,
   "metadata": {
    "collapsed": true
   },
   "outputs": [],
   "source": [
    "#Soln"
   ]
  },
  {
   "cell_type": "markdown",
   "metadata": {},
   "source": [
    "You should see a pattern which shows the stars brightness starting at 1 (this is a normalised flux, and so here 1 corresponds to 100% usual brightness, 0.99 to 99% usual brightness, etc), and then decreasing quite quickly. It stays at this minimum for a time, and then increases quite quickly again to 1."
   ]
  },
  {
   "cell_type": "markdown",
   "metadata": {},
   "source": [
    "### b) Insert time markers"
   ]
  },
  {
   "cell_type": "markdown",
   "metadata": {},
   "source": [
    "There are three important points during an exoplanet transit: the ingress (when the planet begins to pass in front of the star), the egress (when the planet finishes passing in front of the star), and the transit midpoint. \n",
    "\n",
    "Let's place a vertical line at each of these points in order to make them clearer to see on the plot. For this, we can use plt.axvline(x=xvalue). Here, you will need to alter what you put in for 'xvalue' until you feel it appropriately corresponds with the ingress (brightness starts to decrease), midpoint (middle of transit), or egress (brightness returns to full level) point."
   ]
  },
  {
   "cell_type": "code",
   "execution_count": 2,
   "metadata": {
    "collapsed": true
   },
   "outputs": [],
   "source": [
    "#Soln"
   ]
  },
  {
   "cell_type": "markdown",
   "metadata": {},
   "source": [
    "### c) Add descriptions to plot"
   ]
  },
  {
   "cell_type": "markdown",
   "metadata": {},
   "source": [
    "Our vertical lines help us to highlight important moments in our plot. However, in their current form where they are the same colour and do not have labels they are hard to tell apart. \n",
    "\n",
    "In order to identify more clearly what each line represents, we can insert some text on our plot beside our lines saying what they are. This can be done using this matplotlib function - plt.text(x,y,'Place text here',color='color',rotation=90), where x and y are the positions at which you would like your text to appear, and the rotation function rotates the text to be parallel with the lines. Try plotting text beside the ingress, midpoint, and egress lines, and changing their colors. "
   ]
  },
  {
   "cell_type": "code",
   "execution_count": 3,
   "metadata": {
    "collapsed": true
   },
   "outputs": [],
   "source": [
    "#Soln"
   ]
  },
  {
   "cell_type": "markdown",
   "metadata": {},
   "source": [
    "Once we have our vertical lines denoting the ingress and egress placed on our plot, let's insert a horizontal line which spans the duration of the transit.\n",
    "\n",
    "This can be done using the plt.axhline(x_min, x_max, y, color='color'), where x_min and x_max are the minimum and maximum x values we would like our horizontal line to go between (in this case, our ingress and egress), and y is the y value at which we want the line placed. Place a text label beside this horizontal line to show it is the 'Duration of Transit' (for this, you may want to use rotation=0)."
   ]
  },
  {
   "cell_type": "code",
   "execution_count": 4,
   "metadata": {
    "collapsed": true
   },
   "outputs": [],
   "source": [
    "#Soln "
   ]
  },
  {
   "cell_type": "markdown",
   "metadata": {},
   "source": [
    "### d) Calculate minimum brightness level"
   ]
  },
  {
   "cell_type": "markdown",
   "metadata": {},
   "source": [
    "Often, astronomers want to know by how much the brightness of a star decreases when the planet passes in front of it, as we can use this information to calculate the size of the planet. \n",
    "\n",
    "\n",
    "Create a new list which contains a selection of data points from the transit minimum (the flat section of lowest brightness). Then, use the functions sum(list) and len(list) to calculate the mean flux value of the transit minimum. Print your answer with 5 decimal places. "
   ]
  },
  {
   "cell_type": "code",
   "execution_count": 5,
   "metadata": {
    "collapsed": true
   },
   "outputs": [],
   "source": [
    "#Soln"
   ]
  },
  {
   "cell_type": "markdown",
   "metadata": {},
   "source": [
    "### e) Calculate change in brightness level"
   ]
  },
  {
   "cell_type": "markdown",
   "metadata": {},
   "source": [
    "We want to know by what percentage the star's brightness dims as the planet passes in front of it. Calculate this change in brightness using the value calculated in the last question, and assuming the out-of-transit brightness is given by 1. Give your result to 5 decimal places.\n",
    "\n",
    "Comment on your result, and whether it seems reasonable."
   ]
  },
  {
   "cell_type": "code",
   "execution_count": 6,
   "metadata": {
    "collapsed": true
   },
   "outputs": [],
   "source": [
    "#Soln"
   ]
  },
  {
   "cell_type": "markdown",
   "metadata": {},
   "source": [
    "Comment: "
   ]
  },
  {
   "cell_type": "markdown",
   "metadata": {},
   "source": [
    "### f) Calculate the radius of the exoplanet"
   ]
  },
  {
   "cell_type": "markdown",
   "metadata": {},
   "source": [
    "Once we know the change in flux during the transit - how much the star's brightness appears to decrease - it is possible to calculate the radius of the transitting exoplanet if the radius of the host star is know. \n",
    "\n",
    "$$\n",
    " \\frac{\\Delta F}{F} = \\frac{R_p^2}{R_s^2}   \n",
    "$$\n",
    "\n",
    "Where F is the full out-of-transit flux, $\\Delta$F is the change in flux, $R_p$ is the radius of the planet, and $R_*$ is the radius of the host star. The radius of the host star WASP 4 is $\\approx$0.915$R_{\\odot}$ (where $R_{\\odot}$ is the solar radius, and equals 6.9$\\times$10$^5$km). \n",
    "\n",
    "Use this information and the change in brightness calculated previously to estimate the radius of the exoplanet WASP 4b. (Hint: rearrange the above equation for $R_p$, and write a function which will calculate $R_p$ when you input $\\Delta$F, F, and $R_s$). Print your answer with 2 decimal places."
   ]
  },
  {
   "cell_type": "code",
   "execution_count": 7,
   "metadata": {
    "collapsed": true
   },
   "outputs": [],
   "source": [
    "#Soln "
   ]
  },
  {
   "cell_type": "markdown",
   "metadata": {},
   "source": [
    "Express your answer as a fraction of the radius of the Earth. (Note: $R_E$=6371km)"
   ]
  },
  {
   "cell_type": "code",
   "execution_count": 8,
   "metadata": {
    "collapsed": true
   },
   "outputs": [],
   "source": [
    "#Soln"
   ]
  },
  {
   "cell_type": "markdown",
   "metadata": {},
   "source": [
    "Express your answer as a fraction of the radius of Jupiter. (Note: $R_J$ = 71,492 km)"
   ]
  },
  {
   "cell_type": "code",
   "execution_count": 9,
   "metadata": {
    "collapsed": true
   },
   "outputs": [],
   "source": [
    "#Soln"
   ]
  },
  {
   "cell_type": "markdown",
   "metadata": {},
   "source": [
    "## Part 2 - Habitable Zone Calculations"
   ]
  },
  {
   "cell_type": "markdown",
   "metadata": {},
   "source": [
    "One way of classifying exoplanets is whether or not they are in something called the 'habitable zone' of their star. This zone is the area around a star where it is not too hot nor too cold for liquid water to exist on the surface of the planets located there. As far as we know, liquid water is needed for life to form. Therefore, if a planet lies in the habitable zone of its star it may be suitable for hosting life. Calculating the average surface temperature of an exoplanet is therefore one of the easiest ways to assess whether or not it is in the habitable zone.\n",
    "\n"
   ]
  },
  {
   "cell_type": "markdown",
   "metadata": {},
   "source": [
    "### a) Calculate the surface temperature of the transitting exoplanet"
   ]
  },
  {
   "cell_type": "markdown",
   "metadata": {},
   "source": [
    "We can calculate the effective surface temperature of an exoplanet using: $$T_{eff} = T_*\\sqrt{\\frac{R_*}{a}}$$ where  $T_*$ is the surface temperature of the host star, $R_*$ is the radius of the host star, and $a$ is the semi-major axis of the planets orbit (similar to the radius of an elliptical orbit). \n",
    "\n",
    "If the effective temperature of the star WASP 4 is 5436K and the semi-major axis of the planet is 0.02AU (=2.992e+9 m), determine whether or not the studied exoplanet WASP 4b is in the habitable zone. Do this by creating a code for the function of $T_{eff}$ above, and substituting the values for $T_*$, $a$, and $R_*$ given.\n",
    "\n",
    "(Note: 0C to 100C corresponds to 273.15K to 373.15K)."
   ]
  },
  {
   "cell_type": "code",
   "execution_count": 10,
   "metadata": {
    "collapsed": true
   },
   "outputs": [],
   "source": [
    "#Soln "
   ]
  },
  {
   "cell_type": "markdown",
   "metadata": {},
   "source": [
    "Is the studied exoplanet in the habitable zone for the star?"
   ]
  },
  {
   "cell_type": "markdown",
   "metadata": {},
   "source": [
    "Comment: "
   ]
  },
  {
   "cell_type": "markdown",
   "metadata": {},
   "source": [
    "### b) Calculate the surface temperature of a second exoplanet"
   ]
  },
  {
   "cell_type": "markdown",
   "metadata": {},
   "source": [
    "Suppose this host star has another exoplanet orbitting around it - WASP 4c - with a semi-major axis of 1.2 AU (=1.79e11m). Determine whether or not this planet is in the habitable zone for WASP 4. "
   ]
  },
  {
   "cell_type": "code",
   "execution_count": null,
   "metadata": {
    "collapsed": true
   },
   "outputs": [],
   "source": []
  },
  {
   "cell_type": "markdown",
   "metadata": {},
   "source": [
    "Comment: "
   ]
  },
  {
   "cell_type": "markdown",
   "metadata": {},
   "source": [
    "### c) Write an algorithm for determining the habitable zone around a star"
   ]
  },
  {
   "cell_type": "markdown",
   "metadata": {},
   "source": [
    "For a given star of radius $R_*$ and effective surface temperature $T_*$, we can calculate where the habitable zone starts and ends. This corresponds to the region bounded by the closest and furthest semi-major axis $a$ which gives a surface temperature between 273.15K and 373.15K - the temperature range in which liquid water can exist.\n",
    "\n",
    "Build a loop which, for various semi-major axes $a$ (distance from the star), calculates the effective surface temperature of an exoplanet at that distance. Append the distances which fall within the habitable zone to their own list, and from this determine where the habitable zone starts and ends. \n",
    "\n",
    "Test semi-major axes between 0.1AU and 5AU."
   ]
  },
  {
   "cell_type": "code",
   "execution_count": 11,
   "metadata": {
    "collapsed": true
   },
   "outputs": [],
   "source": [
    "#Soln"
   ]
  },
  {
   "cell_type": "markdown",
   "metadata": {},
   "source": [
    "# Part 3 - Advanced Data Analysis and Interpretation"
   ]
  },
  {
   "cell_type": "markdown",
   "metadata": {},
   "source": [
    "We discussed previously how astronomers look for periodic dips in the brightness of stars when searching for exoplanets. However, we have also seen how the brightness of a star can vary significantly even when there is no planet crossing it (for example, the first few hours of the light curve above). \n",
    "\n",
    "Astronomers need to be able to separate dips in brightness due to a transit from random noise and variation in the data. This is done using a 3$\\sigma$ confidence level, where the $\\sigma$ is the standard deviation of the out-of-transit flux. The standard deviation tells us how spread out our values there are. A data point is considered as showing a significant dimming if it is more than 3 standard deviations from the full brightness level. "
   ]
  },
  {
   "cell_type": "markdown",
   "metadata": {},
   "source": [
    "### a) Identify statistically significant dips in brightness"
   ]
  },
  {
   "cell_type": "markdown",
   "metadata": {},
   "source": [
    "Calculate the standard deviation of the out-of-transit flux for the light curve using the np.std() function. TO do this, you may need to create a new list which contains only out-of-transit flux data. Then, identify which points of the light curve, if any, lie more than 3$\\sigma$ from the full brightness (1) of the star. Plot these points in red. "
   ]
  },
  {
   "cell_type": "code",
   "execution_count": 12,
   "metadata": {
    "collapsed": true
   },
   "outputs": [],
   "source": [
    "#Soln "
   ]
  },
  {
   "cell_type": "markdown",
   "metadata": {},
   "source": [
    "### b) Applying criteria for exoplanet transit verification"
   ]
  },
  {
   "cell_type": "markdown",
   "metadata": {},
   "source": [
    "Recording a dim data point is one component of identifying the transit of an exoplanet. However, if only one point out of a few hundred lies more than 3$\\sigma$ from the full brightness, it is unlikely that this represents a true exoplanet transit, as it returns to full brightness too quickly. Exoplanet transits are therefore characterised by not just statistically significant dips in brightness, but sustained statistically significant dips - i.e. multiple dim points in a row. \n",
    "\n",
    "Import the data set 'flux2.txt', which represents observations of the host star WASP 4 at a different part of the night to when the transit of WASP 4b was observed. Plot the light curve for this data, with the x-axis being the same 'times.txt' data used earlier. \n",
    "\n",
    "\n"
   ]
  },
  {
   "cell_type": "code",
   "execution_count": null,
   "metadata": {
    "collapsed": true
   },
   "outputs": [],
   "source": [
    "#Soln"
   ]
  },
  {
   "cell_type": "markdown",
   "metadata": {},
   "source": [
    "#### i. Observtion 2 "
   ]
  },
  {
   "cell_type": "markdown",
   "metadata": {},
   "source": [
    "Write a function which calculates the mean and standard deviation of the entire flux2 data set, and then identifies regions where there are more than n consecutive points below a certain number of standard deviations from the mean. Take n = 5 for this example.\n",
    "\n",
    "Overlay these sets of points - if any exist - over the flux2 light curve. Use this method to determine whether or not this second observation of WASP 4 contains evidence for an exoplanet transit. "
   ]
  },
  {
   "cell_type": "code",
   "execution_count": 13,
   "metadata": {
    "collapsed": true
   },
   "outputs": [],
   "source": [
    "#Soln"
   ]
  },
  {
   "cell_type": "markdown",
   "metadata": {},
   "source": [
    "Comment: "
   ]
  },
  {
   "cell_type": "markdown",
   "metadata": {},
   "source": [
    "#### ii. Observation of WASP 4b"
   ]
  },
  {
   "cell_type": "markdown",
   "metadata": {},
   "source": [
    "Apply the above code for identifying statistically significant and sustained dips in brightness to the original WASP 4b transit."
   ]
  },
  {
   "cell_type": "code",
   "execution_count": 14,
   "metadata": {
    "collapsed": true
   },
   "outputs": [],
   "source": [
    "#Soln "
   ]
  },
  {
   "cell_type": "markdown",
   "metadata": {},
   "source": [
    "### c) Calculate n-point average and standard deviation"
   ]
  },
  {
   "cell_type": "markdown",
   "metadata": {},
   "source": [
    "Given that astronomical observations are often subject to various sources of error and can see some apparently random variation between one data point and the next, astronomers often look at the average of a series of points instead of the raw data itself. A running mean cycles through the entries of a data set and takes an average of each point and its surrounding ones, and creates a new data set from these averages. For example, the i-th entry of an averaged list may be composed of the average of the i-th, i+1-th, i+2-th points of the original data set. This minimises the influence any one outlier has on the appearance of the data.\n",
    "\n",
    "\n",
    "Write two functions which move across the data set and calculate (i) the mean and (ii) the standard deviation of regions of n data points. The function should append these values to lists and plot them. The input of these functions should only be the data set you are analysing and the number of points you wish to average over (n).\n",
    "\n",
    "(Hint: think about how the number of n points you are averaging over will affect the indexing of any for loops you may use)."
   ]
  },
  {
   "cell_type": "code",
   "execution_count": 15,
   "metadata": {
    "collapsed": true
   },
   "outputs": [],
   "source": [
    "#Soln"
   ]
  },
  {
   "cell_type": "markdown",
   "metadata": {},
   "source": [
    "Test your two functions on the WASP 4b data set and comment on your results. Specifically, comment on how the plot of the averages compares with the plot of the raw data and provide a reason for the shape of the standard deviation plot."
   ]
  },
  {
   "cell_type": "code",
   "execution_count": 16,
   "metadata": {
    "collapsed": true
   },
   "outputs": [],
   "source": [
    "#Soln: Running Mean"
   ]
  },
  {
   "cell_type": "markdown",
   "metadata": {},
   "source": [
    "Comment on running mean: "
   ]
  },
  {
   "cell_type": "code",
   "execution_count": 17,
   "metadata": {
    "collapsed": true
   },
   "outputs": [],
   "source": [
    "#Soln: Running Standard Deviation"
   ]
  },
  {
   "cell_type": "markdown",
   "metadata": {},
   "source": [
    "Comment on running standard deviation:"
   ]
  },
  {
   "cell_type": "markdown",
   "metadata": {},
   "source": [
    "# Part 4 - Error Analysis "
   ]
  },
  {
   "cell_type": "markdown",
   "metadata": {},
   "source": [
    "When performing observations in astronomy, there are numerous sources of error which may affect your data. If there are some light clouds, your source may appear dimmer than expected. If the atmosphere is particularly turbulant, your source may appear distorted. Looking at the errors on astrometric data is therefore just as important as looking at our data when trying to draw conclusions or perform calculations. \n",
    "\n"
   ]
  },
  {
   "cell_type": "markdown",
   "metadata": {},
   "source": [
    "### a) Plot the errors from two nights of observations of WASP 4b"
   ]
  },
  {
   "cell_type": "markdown",
   "metadata": {},
   "source": [
    "For example, our exoplanet was observed on two successive nights from the same observatory in Calar Alto, Spain. The errors associated with the data points from each night are given in the text files 'error1.txt' and 'error2.txt' (error1 corresponds to the first night, and error2 to the second). Plot, on separate graphs, the light curve of the exoplanet including its errors for each night."
   ]
  },
  {
   "cell_type": "code",
   "execution_count": 18,
   "metadata": {
    "collapsed": true
   },
   "outputs": [],
   "source": [
    "#Soln Night 1"
   ]
  },
  {
   "cell_type": "code",
   "execution_count": 19,
   "metadata": {
    "collapsed": true
   },
   "outputs": [],
   "source": [
    "#Soln Night 2"
   ]
  },
  {
   "cell_type": "markdown",
   "metadata": {},
   "source": [
    "### b) Interpretation of errors and observing conditions"
   ]
  },
  {
   "cell_type": "markdown",
   "metadata": {},
   "source": [
    "Based on the above plots, which night do you think had better observing conditions?"
   ]
  },
  {
   "cell_type": "markdown",
   "metadata": {},
   "source": [
    "Comment: "
   ]
  },
  {
   "cell_type": "markdown",
   "metadata": {},
   "source": [
    "For the night with poorer observing conditions, is it still possible to conclude, when taking the errors into account, that a transit was observed? Discuss how errors can affect our confidence in our results."
   ]
  },
  {
   "cell_type": "markdown",
   "metadata": {},
   "source": [
    "Comment:"
   ]
  },
  {
   "cell_type": "markdown",
   "metadata": {},
   "source": [
    "# Part 5 - Exoplanet Transit Simulation"
   ]
  },
  {
   "cell_type": "markdown",
   "metadata": {},
   "source": [
    "In this section, you will reverse engineer the examples we have done so far to simulate the transits of the planets in our Solar System from the perspective of a (very) far away observer. "
   ]
  },
  {
   "cell_type": "markdown",
   "metadata": {},
   "source": [
    "### a) Simulate Jupiter's transit across the Sun "
   ]
  },
  {
   "cell_type": "markdown",
   "metadata": {},
   "source": [
    "First, we will simulate the transit of Jupiter by calculating some simple features of the system."
   ]
  },
  {
   "cell_type": "markdown",
   "metadata": {},
   "source": [
    "#### i) Estimate transit depth"
   ]
  },
  {
   "cell_type": "markdown",
   "metadata": {},
   "source": [
    "The radius of Jupiter is 69,911km, and the radius of the Sun is 696,340km. Rearrange the equation in 'Radius Calculation' of Part A and use these values to estimate the depth of Jupiter's transit curve."
   ]
  },
  {
   "cell_type": "code",
   "execution_count": 20,
   "metadata": {
    "collapsed": true
   },
   "outputs": [],
   "source": [
    "#Soln"
   ]
  },
  {
   "cell_type": "markdown",
   "metadata": {},
   "source": [
    "#### ii) Estimate transit duration"
   ]
  },
  {
   "cell_type": "markdown",
   "metadata": {},
   "source": [
    "Use the orbital speed of Jupiter (approx 13 km/s) to calculate the time it will take it to cross the diameter of the Sun. This will give the transit duration. "
   ]
  },
  {
   "cell_type": "code",
   "execution_count": 21,
   "metadata": {
    "collapsed": true
   },
   "outputs": [],
   "source": [
    "#Soln"
   ]
  },
  {
   "cell_type": "markdown",
   "metadata": {},
   "source": [
    "#### iii) Simplified transit model"
   ]
  },
  {
   "cell_type": "markdown",
   "metadata": {},
   "source": [
    "Write a code which will make a rough estimate of the brightness levels from an observation of the Sun around the time of Jupiter's transit. This should go from an out-of-transit maximum of 1 to the minimum calculated in part (a i), and should stay at this minimum for the duration calculated in part (a ii). Assume this observation lasts for more than double the length of Jupiter's transit duration.\n",
    "\n",
    "Comment on how this transit estimate compares with the exoplanet WASP 4b studied earlier."
   ]
  },
  {
   "cell_type": "code",
   "execution_count": 22,
   "metadata": {
    "collapsed": true
   },
   "outputs": [],
   "source": [
    "#Soln "
   ]
  },
  {
   "cell_type": "markdown",
   "metadata": {},
   "source": [
    "Comment: "
   ]
  },
  {
   "cell_type": "markdown",
   "metadata": {},
   "source": [
    "#### iv) Estimate gradual ingress and egress times"
   ]
  },
  {
   "cell_type": "markdown",
   "metadata": {},
   "source": [
    "You may notice that the decrease and increase in brightness (ingress and egress) of the transit appear much more abrupt than those of the exoplanet studied earlier. This is because Jupiter gradually moves in front of the Sun and then gradually moves past it, and so the dimming and brightening should reflect that (position 2 in the graphic at the start of the exercise shows the exoplanet mid-ingress).\n",
    "\n",
    "Estimate how long it would take for Jupiter to move from appearing right beside the Sun to being fully in front of it. (Hint: consider how long it would take for an object moving at Jupiter's orbital velocity to travel the distance of Jupiter's diameter.) This will give an estimate of both the ingress and egress durations.\n"
   ]
  },
  {
   "cell_type": "code",
   "execution_count": 23,
   "metadata": {
    "collapsed": true
   },
   "outputs": [],
   "source": [
    "#Soln"
   ]
  },
  {
   "cell_type": "markdown",
   "metadata": {},
   "source": [
    "#### v) Incorporate ingress and egress into model"
   ]
  },
  {
   "cell_type": "markdown",
   "metadata": {},
   "source": [
    "Modify your code of part (a iii) to include the gradual ingress and egress times. "
   ]
  },
  {
   "cell_type": "code",
   "execution_count": 24,
   "metadata": {
    "collapsed": true
   },
   "outputs": [],
   "source": [
    "#Soln"
   ]
  },
  {
   "cell_type": "markdown",
   "metadata": {},
   "source": [
    "By placing appropriate limits on the x-axis, zoom in on the ingress and egress sections of the graph to ensure the model demonstrates the gradual change in brightness desired. "
   ]
  },
  {
   "cell_type": "code",
   "execution_count": 25,
   "metadata": {
    "collapsed": true
   },
   "outputs": [],
   "source": [
    "#Soln "
   ]
  },
  {
   "cell_type": "markdown",
   "metadata": {},
   "source": [
    "### b) Create a general model of a transit"
   ]
  },
  {
   "cell_type": "markdown",
   "metadata": {},
   "source": [
    "Combine your code from the previous sections into one function which takes a planet's radius and orbital velocity and makes an estimate of its lightcurve from transitting the Sun."
   ]
  },
  {
   "cell_type": "code",
   "execution_count": 26,
   "metadata": {
    "collapsed": true
   },
   "outputs": [],
   "source": [
    "#Soln"
   ]
  },
  {
   "cell_type": "markdown",
   "metadata": {},
   "source": [
    "### c) Simulating transits of various Solar System planets"
   ]
  },
  {
   "cell_type": "markdown",
   "metadata": {},
   "source": [
    "Using the function defined in the previous section, make estimates of the light curves of Earth (R = 6371km ,v = 30 km/s) and Saturn (R=58323 km, v=9.8 km/s)."
   ]
  },
  {
   "cell_type": "code",
   "execution_count": 27,
   "metadata": {
    "collapsed": true
   },
   "outputs": [],
   "source": [
    "#Soln"
   ]
  }
 ],
 "metadata": {
  "anaconda-cloud": {},
  "kernelspec": {
   "display_name": "Python [default]",
   "language": "python",
   "name": "python3"
  },
  "language_info": {
   "codemirror_mode": {
    "name": "ipython",
    "version": 3
   },
   "file_extension": ".py",
   "mimetype": "text/x-python",
   "name": "python",
   "nbconvert_exporter": "python",
   "pygments_lexer": "ipython3",
   "version": "3.5.2"
  }
 },
 "nbformat": 4,
 "nbformat_minor": 2
}

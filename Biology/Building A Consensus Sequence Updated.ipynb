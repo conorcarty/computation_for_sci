{
 "cells": [
  {
   "cell_type": "markdown",
   "metadata": {},
   "source": [
    "# Hamming Distance and \"Relatedness\"\n",
    "\n",
    "This tutorial is adapted from the supplementary data of a study (with some creative licensing!) on leprosy in red squirrels from Ireland, England, Scotland, Brownsea Island, and Mexico (Avanzi et al 2016).\n",
    "<br>There are many computational programs for determining how evolutionarily related a group of species are, using methods like Bayesian statistics. However, these same methods can be applied to members of the same species, like strains of a bacteria or a virus.\n",
    "<br>In this tutorial, we will be using a simpler method, Hamming distance, which simply calculates the number of base pair differences between DNA samples. \n",
    "<br>For example:\n",
    "<br>ACGCCG\n",
    "<br>TCGACG\n",
    "<br>We would say these two sequences have a Hamming Distance of 2 (A and T differ in the first base position, and C and A differ in the fourth position). In general, the greater the Hamming distance, the more distantly related the sequences are.\n",
    "Given below are a sequence of variants from two leprosy isolates obtained from squirrels on Brownsea Island. Write code to calculate the Hamming distance between the two sequences that are of equal length."
   ]
  },
  {
   "cell_type": "markdown",
   "metadata": {},
   "source": [
    "![Brownsea Island](https://media-cdn.tripadvisor.com/media/photo-s/10/84/95/ec/brownsea-island.jpg)"
   ]
  },
  {
   "cell_type": "code",
   "execution_count": null,
   "metadata": {},
   "outputs": [],
   "source": [
    "Brw151E = \"CTTTACTCTAATATATACGGTCCGTAGTGCATCAGCAGAAAAA\"\n",
    "Brw1510 = \"CTTTACCCTAATATACACGGTCCGTGGTGCATCAGCAGAAAAA\""
   ]
  },
  {
   "cell_type": "markdown",
   "metadata": {},
   "source": [
    "![Red Squirrel](https://scottishwildlifetrust.org.uk/wp-content/uploads/2016/09/Red-Squirrel-6-©-Ronnie-Stokes.jpg)"
   ]
  },
  {
   "cell_type": "markdown",
   "metadata": {},
   "source": [
    "# Coming to a Consensus\n",
    "Let's look at some more sequences. The study analyzed leprosy in squirrels from Scotland, Ireland, and England as well (however, these sequences were not provided, so we will be using some hypotheticals instead). Remember that although two organisms may be from the same species, 0.1%-1.0% of all of their sequences of nucleotides/bases (their \"genomes\") can differ with one another. For example, humans have 0.6% nucleotide base differences between one another, but this is across 3.2 billion bases, equating to about 20 million differences (variants) between you and the person sitting beside you! \n",
    "<br>When observing a large group of sequences, sometimes it is helpful to see what the \"average\" sequence would look like or the consensus. The consensus sequence is the order of the most frequent nucleotides in a group of sequences. Example below:<br>\n",
    "\n",
    "AGCTA<br>\n",
    "ACCAA<br>\n",
    "TGCTA<br>\n",
    "AGCAT<br>\n",
    "<br>\n",
    "A: 3 0 0 2 3<br>\n",
    "C: 0 1 4 0 0<br>\n",
    "G: 0 3 0 0 0<br>\n",
    "T: 1 0 0 2 1<br>\n",
    "<br>\n",
    "Consensus: AGCAA<br>\n",
    "\n",
    "By the end of this tutorial, you will create the code to produce the output above for the consensus of leprosy strains in Scotland, England, Mexico and Brownsea Island. Finding the most common variation in populations is extremely important, especially for developing medicinal targets and vaccine targets for diseases! Some variants may cause organisms to be weaker or stronger against specific medications, and it's important to identify how common these variants are.\n",
    "<br>Context: The sequences are variant nucleotide bases (different from the \"worldwide\" consensus/reference sequence for leprosy)- these variants are scattered across the genome with thousands of nucleotides in between each other! All of the other nucleotides look exactly like the worldwide reference so we won't focus on them- only the variants below are important to us because they're different! These variants may have some important answers for how leprosy is evolving in these squirrels and maybe how to stop its spread.\n",
    "<br>Note: some bases are lowercase, meaning they fell below the significance threshold when being computed (not too confident that this is the base, but not relevant to this exercise!). However, make sure all of the bases are converted to uppercase by using the .uppercase() function for this analysis. Remember, 'a' and 'A' are not the same, meaing your function counting 'A's will not count 'a's!\n",
    "<br> Hint: You need to create a list to count the A's at each position. So, begin by creating a list of 0's that is the full length of the sequences.  "
   ]
  },
  {
   "cell_type": "markdown",
   "metadata": {},
   "source": [
    "<br>Begin by storing the sequences in a list called, \"sequences.\" "
   ]
  },
  {
   "cell_type": "code",
   "execution_count": null,
   "metadata": {},
   "outputs": [],
   "source": [
    "ScLep = \"TGAGAtatTG\" \n",
    "MexLep = \"TGAAATATTG\"\n",
    "BrwLep = \"TcgGAaATTG\"\n",
    "EngLep = \"tGAcATAtTG\"\n",
    "\n"
   ]
  },
  {
   "cell_type": "markdown",
   "metadata": {},
   "source": [
    "# Making a Nucleotide Count Function\n",
    "- Then, define a function called, \"find_A(),\" that takes in the list of sequences.<br> \n",
    "- Create a list called \"A_count\" that contains zeros the length of our sequences. This would be 10 zeros, but find a solution for if you didn't have a way to just count the nucleotides in front of you!<br>\n",
    "- Create a for loop that iterates over the list of sequences, and a nested for loop (a for loop within the previous) that loops through the nucleotides in each sequence.<br>\n",
    "- Create an 'if' statement that evaluates whether or not your nucleotide is an 'A.'<br>\n",
    "- If the nucleotide is 'A,' increase your \"A_count\" list by 1 at that position.<br> \n",
    "- Then, return the list of 'A's at every position (like \"3 0 0 2 3\") in the four leprosy sequences."
   ]
  },
  {
   "cell_type": "code",
   "execution_count": null,
   "metadata": {},
   "outputs": [],
   "source": []
  },
  {
   "cell_type": "markdown",
   "metadata": {},
   "source": [
    "Now, create another three functions that count the number of times G, C, and T appear at each position, just as done with A above. Like in the exercise above, each of the functions must take in the list of sequences and return a list of counts. **However, you can add just a few lines of code to the same function above to find these three other parameters, but would need to return a list of lists containing all of your counts when the function is complete.**"
   ]
  },
  {
   "cell_type": "code",
   "execution_count": null,
   "metadata": {},
   "outputs": [],
   "source": []
  },
  {
   "cell_type": "markdown",
   "metadata": {},
   "source": [
    "# Printing the Matrix\n",
    "In order to print lists in a specific format, you can use the map() and .join() functions. map() takes in a list and performs a specific function on the list. Syntax below:\n",
    "<br>*map(function, list_you_want_to_perform_function_on)*\n",
    "\n",
    "Then, the .join function joins together elements of a list with a specific character:\n",
    "<br>*\"Character_of_interest\".join(list)*\n",
    "\n",
    "<br>However, .join only works on lists with string elements. So, you will need to *map* the string function (\"str\") across the list elements before you can join them by a space \" \".\n",
    "\n",
    "<br>Define a function that takes in the list of strings, passes the list through the previous four functions you created, and prints out the position-counts lists in a matrix.\n",
    "\n",
    "<br>Example:\n",
    "<br>`list1 = [0 , 1, 2, 3, 4]\n",
    "print('+'.join(map(str, list1)))\n",
    "Output: 0+1+2+3+4` \n",
    "\n",
    "<br>Hint: You may also want to *insert* the row names (A:, G:, C:, and T:)."
   ]
  },
  {
   "cell_type": "code",
   "execution_count": null,
   "metadata": {},
   "outputs": [],
   "source": []
  },
  {
   "cell_type": "markdown",
   "metadata": {},
   "source": [
    "# Find the Consensus Sequence\n",
    "Find the maximum count at each position and use this to form a consensus sequence. Define a consensus sequence function called \"find_Con()\" that uses the position-count lists from the previous function(s) and returns a consensus sequence string. Print the consensus sequence for leprosy variation in the UK and Ireland. "
   ]
  },
  {
   "cell_type": "code",
   "execution_count": null,
   "metadata": {},
   "outputs": [],
   "source": []
  },
  {
   "cell_type": "markdown",
   "metadata": {},
   "source": [
    "# The Origin of Leprosy in Irish Squirrels\n",
    "Below is a hypothetical variant sequence from a leprosy strain in Ireland, corresponding to the same variant sequences from Mexico, Scotland, England, and Brownsea Island. Write some code to demonstrate where this Irish sequence most likely originated from.\n",
    "Hint: This is asking which sequence the Irish sequence is **most related** to."
   ]
  },
  {
   "cell_type": "code",
   "execution_count": null,
   "metadata": {},
   "outputs": [],
   "source": [
    "IrLep = \"tGAcATAtTC\""
   ]
  }
 ],
 "metadata": {
  "kernelspec": {
   "display_name": "Python 3",
   "language": "python",
   "name": "python3"
  },
  "language_info": {
   "codemirror_mode": {
    "name": "ipython",
    "version": 3
   },
   "file_extension": ".py",
   "mimetype": "text/x-python",
   "name": "python",
   "nbconvert_exporter": "python",
   "pygments_lexer": "ipython3",
   "version": "3.7.1"
  }
 },
 "nbformat": 4,
 "nbformat_minor": 2
}

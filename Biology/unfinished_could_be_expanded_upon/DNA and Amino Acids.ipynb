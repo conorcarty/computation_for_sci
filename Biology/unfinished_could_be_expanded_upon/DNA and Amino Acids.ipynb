{
 "cells": [
  {
   "cell_type": "markdown",
   "metadata": {},
   "source": [
    "# DNA and Amino Acids\n",
    "In this problem, you'll write several helper functions for manipulating DNA sequences. These functions will be useful in subsequent problems where you'll analyse DNA data in various ways.\n",
    "\n",
    "## 1) Base Complements\n",
    "Write a function `compBase(N)` that takes a string that is a single DNA base `\"A\"`,`\"G\"`,`\"T\"`, or `\"C\"` as input and returns the base that is complementary to it. Here are some examples:\n",
    "\n",
    "`>>> compBase(\"A\")`\n",
    "\n",
    "`'T'`\n",
    "\n",
    "`>>> compBase(\"G\")`\n",
    "\n",
    "`'C'`\n",
    "\n",
    "## Solution"
   ]
  },
  {
   "cell_type": "code",
   "execution_count": 1,
   "metadata": {
    "collapsed": false
   },
   "outputs": [],
   "source": [
    "def compBase(N):\n",
    "    if(N == 'A'):\n",
    "        return 'T'\n",
    "    elif(N == 'T'):\n",
    "        return 'A'\n",
    "    elif(N == 'G'):\n",
    "        return 'C'\n",
    "    elif(N == 'C'):\n",
    "        return 'G'"
   ]
  },
  {
   "cell_type": "markdown",
   "metadata": {},
   "source": [
    "## 2) Reversing\n",
    "Write a function called `reverse(s)` that uses loops to take in a string `s` and returns a string that is the reverse of `s`. \n",
    "\n",
    "Here is an example: \n",
    "\n",
    "`>>> reverse(\"read\")`\n",
    "\n",
    "`'dear'`\n",
    "\n",
    "\n",
    "\n",
    "## Solution"
   ]
  },
  {
   "cell_type": "code",
   "execution_count": 18,
   "metadata": {
    "collapsed": true
   },
   "outputs": [],
   "source": [
    "def reverse(s):\n",
    "    #create an empty string that will contain the reversed string\n",
    "    r = ''\n",
    "    #loop through the string \n",
    "    for c in s:\n",
    "        #add the next character of s to the beginning of r\n",
    "        r = c+r\n",
    "    return r\n",
    "\n",
    "#alternative solution looping over indices:\n",
    "def reverse_alt(s):\n",
    "    #create an empty string that will contain the reversed string\n",
    "    r = ''\n",
    "    #loop over the indices in the string\n",
    "    for i in range(len(s)):\n",
    "        #add the next character of s to the beginning of r\n",
    "        r = s[i]+r\n",
    "    return r"
   ]
  },
  {
   "cell_type": "markdown",
   "metadata": {},
   "source": [
    "## 3) Reverse Complements\n",
    "Write a function `reverseComplement(DNA)` that takes a DNA string as input and returns the sequence of its complementary DNA strand by reversing the string and replacing each individual DNA base with its complementary base. This should make use of both `compBase(N)` and `reverse(s)`.\n",
    "\n",
    "## Solution"
   ]
  },
  {
   "cell_type": "code",
   "execution_count": 19,
   "metadata": {
    "collapsed": true
   },
   "outputs": [],
   "source": [
    "def reverseComplement(DNA):\n",
    "    #first reverse the string\n",
    "    DNA = reverse(DNA)\n",
    "    #create an empty string to contain the reverse complement\n",
    "    rc = ''\n",
    "    for c in DNA:\n",
    "        rc = rc + compBase(c)\n",
    "    return rc"
   ]
  },
  {
   "cell_type": "markdown",
   "metadata": {},
   "source": [
    "## 4) Codons to Amino Acids\n",
    "In order to complete this part of the exercise we need some additional information. In particular, we need to know which codons code for which amino acids. This information is all contained in the file aminoAcids.py, which we will now import:"
   ]
  },
  {
   "cell_type": "code",
   "execution_count": 36,
   "metadata": {
    "collapsed": true
   },
   "outputs": [],
   "source": [
    "from aminoAcids import *"
   ]
  },
  {
   "cell_type": "markdown",
   "metadata": {},
   "source": [
    "Lets take a peek at what's inside this file. It contains two lists. "
   ]
  },
  {
   "cell_type": "code",
   "execution_count": 39,
   "metadata": {
    "collapsed": false
   },
   "outputs": [
    {
     "name": "stdout",
     "output_type": "stream",
     "text": [
      "['F', 'L', 'I', 'M', 'V', 'S', 'P', 'T', 'A', 'Y', '|', 'H', 'Q', 'N', 'K', 'D', 'E', 'C', 'W', 'R', 'G']\n"
     ]
    }
   ],
   "source": [
    "print(aa)"
   ]
  },
  {
   "cell_type": "code",
   "execution_count": 40,
   "metadata": {
    "collapsed": false
   },
   "outputs": [
    {
     "name": "stdout",
     "output_type": "stream",
     "text": [
      "[['TTT', 'TTC'], ['TTA', 'TTG', 'CTT', 'CTC', 'CTA', 'CTG'], ['ATT', 'ATC', 'ATA'], ['ATG'], ['GTT', 'GTC', 'GTA', 'GTG'], ['TCT', 'TCC', 'TCA', 'TCG', 'AGT', 'AGC'], ['CCT', 'CCC', 'CCA', 'CCG'], ['ACT', 'ACC', 'ACA', 'ACG'], ['GCT', 'GCC', 'GCA', 'GCG'], ['TAT', 'TAC'], ['TAA', 'TAG', 'TGA'], ['CAT', 'CAC'], ['CAA', 'CAG'], ['AAT', 'AAC'], ['AAA', 'AAG'], ['GAT', 'GAC'], ['GAA', 'GAG'], ['TGT', 'TGC'], ['TGG'], ['CGT', 'CGC', 'CGA', 'CGG', 'AGA', 'AGG'], ['GGT', 'GGC', 'GGA', 'GGG']]\n"
     ]
    }
   ],
   "source": [
    "print(codons)"
   ]
  },
  {
   "cell_type": "markdown",
   "metadata": {},
   "source": [
    "These require some explanation of course. `codons` is a list of lists! The first list in `codons` is `['TTT', 'TTC']`. This tells us that both of these codons code for the amino acid `'F'`. How do we know it's `'F'`? Because it's the first string in the `aa` list above. \n",
    "\n",
    "The next list in codons is `['TTA', 'TTG', 'CTT', 'CTC', 'CTA', 'CTG']`. All six of these codons code for the amino acid `'L'`, because that's the second entry of `aa`. To find what codons code for a particular amino acid, continue on in this fashion. \n",
    "\n",
    "Your first task is to write a function called amino(codon) that takes as input a codon string (a string of three letters) and returns the corresponding amino acid.\n",
    "\n",
    "## Solution"
   ]
  },
  {
   "cell_type": "code",
   "execution_count": 29,
   "metadata": {
    "collapsed": false
   },
   "outputs": [
    {
     "name": "stdout",
     "output_type": "stream",
     "text": [
      "G\n"
     ]
    }
   ],
   "source": [
    "#we need access to codons and aa in the aminoAcids file\n",
    "#possibly it's better to import it differently so we have to refer to aa as aminoAcids.aa, not sure!!\n",
    "from aminoAcids import *\n",
    "\n",
    "def amino(codon):\n",
    "    for i in range(len(aa)):\n",
    "        if(codon in codons[i]):\n",
    "            return aa[i]"
   ]
  },
  {
   "cell_type": "markdown",
   "metadata": {},
   "source": [
    "## 5) Coding Strands to DNA\n",
    "Your final task is to write a function `codingStrandToAA(DNA)` that takes a sequence of DNA nucleotides from the coding strand and returns the corresponding amino acids as a string. Assume that the reading frame begins with the first base and continues on to the last nucleotide (i.e., `codingStrandToAA` doesn't need to worry about start and stop codons). This function should call your amino function for help!\n",
    "\n",
    "## Solution"
   ]
  },
  {
   "cell_type": "code",
   "execution_count": 32,
   "metadata": {
    "collapsed": false
   },
   "outputs": [
    {
     "data": {
      "text/plain": [
       "'MQQL'"
      ]
     },
     "execution_count": 32,
     "metadata": {},
     "output_type": "execute_result"
    }
   ],
   "source": [
    "def codingStrandToAA(DNA):\n",
    "    #empty string to hold the amino acids\n",
    "    aastring = ''\n",
    "    for i in range(0, len(DNA), 3):\n",
    "        aastring = aastring + amino(DNA[i:i+3])\n",
    "    return aastring"
   ]
  }
 ],
 "metadata": {
  "anaconda-cloud": {},
  "kernelspec": {
   "display_name": "Python [default]",
   "language": "python",
   "name": "python3"
  },
  "language_info": {
   "codemirror_mode": {
    "name": "ipython",
    "version": 3
   },
   "file_extension": ".py",
   "mimetype": "text/x-python",
   "name": "python",
   "nbconvert_exporter": "python",
   "pygments_lexer": "ipython3",
   "version": "3.5.2"
  }
 },
 "nbformat": 4,
 "nbformat_minor": 1
}

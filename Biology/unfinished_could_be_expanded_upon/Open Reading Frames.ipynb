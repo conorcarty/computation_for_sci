{
 "cells": [
  {
   "cell_type": "markdown",
   "metadata": {},
   "source": [
    "# Open Reading Frames\n",
    "A DNA string is called an *open reading frame (ORF)* if it begins with `'ATG'`, ends with `'TAG'`, `'TGA'` or `'TAA'`, and has a length that is a multiple of 3. ORFs are interesting because they can encode proteins. \n",
    "\n",
    "Write a function called `ORFadvisor(DNA)` that takes a string called `DNA` as input and works as follows: \n",
    "\n",
    "* The function returns the string `'This is an ORF.'` if the input string satisfies all three of the conditions required of ORFs.\n",
    "* Otherwise, if the first three symbols are not `'ATG'`, the function returns the string `'The first three bases are not ATG.'`.\n",
    "* Otherwise, if the string does not end with `'TGA'`, `'TAG'`, or `'TAA'`, the function returns the string `'The last three bases are not a stop codon.'`.\n",
    "* Otherwise, the function returns the string `'The string is not of the correct length.'`"
   ]
  },
  {
   "cell_type": "markdown",
   "metadata": {},
   "source": [
    "## Solution"
   ]
  },
  {
   "cell_type": "code",
   "execution_count": 26,
   "metadata": {
    "collapsed": false
   },
   "outputs": [],
   "source": [
    "def ORFadvisor(DNA):\n",
    "    #check if the first three symbols are 'ATG'\n",
    "    if(DNA[:3]!='ATG'):\n",
    "        return 'The first three bases are not ATG.'\n",
    "    \n",
    "    #check if the string ends with 'TGA', 'TAG' or 'TAA'\n",
    "    a = DNA[-3:]\n",
    "    if(a != 'TGA' and a !='TAG' and a!= 'TAA'):\n",
    "        return 'The last three bases are not a stop codon.'\n",
    "    \n",
    "    #check the length of the string\n",
    "    if(len(DNA)%3 != 0):\n",
    "        return 'The string is not of the correct length.'\n",
    "    \n",
    "    return 'This is an ORF.'"
   ]
  },
  {
   "cell_type": "code",
   "execution_count": 25,
   "metadata": {
    "collapsed": false
   },
   "outputs": [
    {
     "data": {
      "text/plain": [
       "'This is an ORF.'"
      ]
     },
     "execution_count": 25,
     "metadata": {},
     "output_type": "execute_result"
    }
   ],
   "source": [
    "ORFadvisor('ATGABCTAG')"
   ]
  }
 ],
 "metadata": {
  "kernelspec": {
   "display_name": "Python [default]",
   "language": "python",
   "name": "python3"
  },
  "language_info": {
   "codemirror_mode": {
    "name": "ipython",
    "version": 3
   },
   "file_extension": ".py",
   "mimetype": "text/x-python",
   "name": "python",
   "nbconvert_exporter": "python",
   "pygments_lexer": "ipython3",
   "version": "3.5.2"
  }
 },
 "nbformat": 4,
 "nbformat_minor": 1
}

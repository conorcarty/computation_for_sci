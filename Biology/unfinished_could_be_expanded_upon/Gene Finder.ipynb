{
 "cells": [
  {
   "cell_type": "markdown",
   "metadata": {},
   "source": [
    "## restOfORF\n",
    "Write a function `restOfORF(DNA)` that takes as its input a DNA sequence. It **assumes** that this DNA sequence begins with a start codon \"ATG\". It then finds the next in frame stop codon, and returns the ORF from the start to that stop codon. The sequence that is returned should include the start codon but not the stop codon. If there is no in frame stop codon, restOfORF should assume that the reading frame extends through the end of the sequence and simply return the entire sequence."
   ]
  },
  {
   "cell_type": "code",
   "execution_count": 5,
   "metadata": {
    "collapsed": false
   },
   "outputs": [],
   "source": [
    "def restOfORF(DNA):\n",
    "    for i in range(0, len(DNA), 3):\n",
    "        if(DNA[i:i+3] in ['TAG', 'TAA', 'TGA']):\n",
    "            return DNA[:i]\n",
    "    return DNA"
   ]
  },
  {
   "cell_type": "markdown",
   "metadata": {},
   "source": [
    "## oneFrame\n",
    "Write a function called `oneFrame(DNA)` that takes a DNA string as input. It searches that string from left to right in multiples of 3 nucleotides--that is, in a single reading frame. When it hits a start codon \"ATG\" it calls restOfORF on the slice of the string beginning at that codon to get back an ORF. That ORF is added to a list and then the function skips ahead in the DNA string to the point right after the ORF that we just found. This is repeated until we've traversed the entire DNA string."
   ]
  },
  {
   "cell_type": "code",
   "execution_count": 35,
   "metadata": {
    "collapsed": true
   },
   "outputs": [],
   "source": [
    "#use the length of the returned sequence to find where to jump to\n",
    "def oneFrame(DNA):\n",
    "    #list that will be returned at the end\n",
    "    orf = []\n",
    "    i = 0\n",
    "    while(i < len(DNA)-2):\n",
    "        if(DNA[i:i+3] == 'ATG'):\n",
    "            a = restOfORF(DNA[i:])\n",
    "            orf.append(a)\n",
    "            i += len(a)-3\n",
    "        i += 3\n",
    "    return orf"
   ]
  },
  {
   "cell_type": "markdown",
   "metadata": {},
   "source": [
    "## longestORF\n",
    "Next, you will write a function longestORF(DNA) that takes a DNA string and returns the sequence of the longest open reading frame on it, in any of the three possible frames. This function will not consider the reverse complement of DNA.\n",
    "\n",
    "It shouldn't take much work to write longestORF given that you've already written oneFrame."
   ]
  },
  {
   "cell_type": "code",
   "execution_count": 33,
   "metadata": {
    "collapsed": false
   },
   "outputs": [],
   "source": [
    "def longestORF(DNA):\n",
    "    a1 = oneFrame(DNA)\n",
    "    a2 = oneFrame(DNA[1:])\n",
    "    a3 = oneFrame(DNA[2:])\n",
    "    \n",
    "    a = a1 + a2 + a3\n",
    "    length = 0\n",
    "    pos = -1\n",
    "    \n",
    "    for i in range(len(a)):\n",
    "        if(len(a[i]) > length):\n",
    "            length = len(a[i])\n",
    "            pos = i\n",
    "    return a[pos]"
   ]
  },
  {
   "cell_type": "markdown",
   "metadata": {},
   "source": [
    "## longestORFBothStrands\n",
    "We are given a DNA sequence in 5' to 3' order. A gene might appear on this strand or its reverse complement. Thus, our next function is a very short one called longestORFBothStrands(DNA). This function takes a DNA string as input and finds the longest ORF on that DNA string or its reverse complement. You can use the longestORF function you have already written. First ask it for the longest ORF in the given DNA and then ask it for the longest ORF on its reverse complement (use your reverseComplement function to find the reverse complement). The longer of those two is the longest ORF possible (break ties arbitrarily)."
   ]
  },
  {
   "cell_type": "code",
   "execution_count": 40,
   "metadata": {
    "collapsed": true
   },
   "outputs": [],
   "source": [
    "from dna import *\n",
    "\n",
    "def longestORFBothStrands(DNA):\n",
    "    a = longestORF(DNA)\n",
    "    b = longestORF(reverseComplement(DNA))\n",
    "    if(len(a) > len(b)):\n",
    "        return a\n",
    "    else:\n",
    "        return b"
   ]
  },
  {
   "cell_type": "code",
   "execution_count": 41,
   "metadata": {
    "collapsed": false
   },
   "outputs": [
    {
     "data": {
      "text/plain": [
       "'ATGAAA'"
      ]
     },
     "execution_count": 41,
     "metadata": {},
     "output_type": "execute_result"
    }
   ],
   "source": [
    "longestORFBothStrands('CTATTTCATG')"
   ]
  },
  {
   "cell_type": "markdown",
   "metadata": {},
   "source": [
    "## longestORFNoncoding\n",
    "To assess whether long ORFs are genes, a researcher would ask the question, \"is this sequence length indicative of a coding region or would I expect to see sequences this long in garbage?\" By \"garbage\", of course, we mean just random sequences of nucleotides.\n",
    "\n",
    "We'll test this by generating a bunch of \"garbage\" sequences of the same length as our test DNA sequence, and measuring the maximum ORF length in each. Then, we'll ask the following question. Is the very longest ORF among these still shorter than some ORFs we observe in our real DNA? If the real DNA ORFs are significantly longer than what we see in the garbage sequence, that is a very strong indicator that we did in fact find genes in our original DNA!\n",
    "\n",
    "Write a function longestORFNoncoding(DNA, numReps) that makes a bunch of garbage sequences, finds the very longest ORF in all of these, and returns its length. Note: this function returns a number rather than a DNA string.\n",
    "\n",
    "OK, so now it's time to generate garbage sequences. We could generate totally random strings of the same length as our DNA string, but that might not be a very accurate test since our DNA string might have more nucleotides of one type and fewer of another. To be fair, our garbage strings should have the same nucleotides but just reordered or \"shuffled\" randomly.\n",
    "\n",
    "To do that, you'll first need to take your DNA string and turn it into a list of its constituent symbols. There is a built-in function called list that takes as input a string and returns the list of symbols in that string."
   ]
  },
  {
   "cell_type": "code",
   "execution_count": null,
   "metadata": {
    "collapsed": true
   },
   "outputs": [],
   "source": [
    "import random\n",
    "\n",
    "def collapse(L):\n",
    "    output = \"\"\n",
    "    for s in L:\n",
    "        output = output + s\n",
    "    return output\n",
    "\n",
    "\n",
    "def longestORFNoncoding(DNA, numReps):\n",
    "    dnaList = list(DNA)\n",
    "    maxLen = 0\n",
    "    for i in range(numReps):\n",
    "        random.shuffle(dnaList)\n",
    "        DNA = collapse(dnaList)\n",
    "        l = longestORFBothStrands(DNA)"
   ]
  }
 ],
 "metadata": {
  "kernelspec": {
   "display_name": "Python [default]",
   "language": "python",
   "name": "python3"
  },
  "language_info": {
   "codemirror_mode": {
    "name": "ipython",
    "version": 3
   },
   "file_extension": ".py",
   "mimetype": "text/x-python",
   "name": "python",
   "nbconvert_exporter": "python",
   "pygments_lexer": "ipython3",
   "version": "3.5.2"
  }
 },
 "nbformat": 4,
 "nbformat_minor": 1
}

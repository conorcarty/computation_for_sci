{
 "cells": [
  {
   "cell_type": "markdown",
   "metadata": {},
   "source": [
    "# Ecology Exercise \n",
    "\n",
    "## Part 1: Reading from a dataset\n",
    "\n",
    "In this worksheet we will be looking at some ecological data and working with it to try to investigate the relationship between red squirrels, grey squirrels, and pine martens. \n",
    "\n",
    "Be sure to download the data:\"sheet.csv\"          "
   ]
  },
  {
   "cell_type": "code",
   "execution_count": 85,
   "metadata": {},
   "outputs": [],
   "source": [
    "import matplotlib.pyplot as plt\n",
    "import numpy as np\n",
    "import math\n",
    "\n",
    "%matplotlib inline\n",
    "\n",
    "s = pd.read_csv(\"sheet.csv\")  "
   ]
  },
  {
   "cell_type": "markdown",
   "metadata": {},
   "source": [
    "We have called our sheet of data \"s\". \n",
    "The function **head()** can be used to display the first few rows of your data - a useful way to check and make sure it's been set up correctly. <br>\n",
    "s.head(5) will display the first five rows of data from our sheet. Note how the \"s\" and the function are separated by a full stop. \n",
    "\n",
    "Display the first 6 rows of data.\n",
    "\n"
   ]
  },
  {
   "cell_type": "code",
   "execution_count": 86,
   "metadata": {},
   "outputs": [
    {
     "data": {
      "text/html": [
       "<div>\n",
       "<style scoped>\n",
       "    .dataframe tbody tr th:only-of-type {\n",
       "        vertical-align: middle;\n",
       "    }\n",
       "\n",
       "    .dataframe tbody tr th {\n",
       "        vertical-align: top;\n",
       "    }\n",
       "\n",
       "    .dataframe thead th {\n",
       "        text-align: right;\n",
       "    }\n",
       "</style>\n",
       "<table border=\"1\" class=\"dataframe\">\n",
       "  <thead>\n",
       "    <tr style=\"text-align: right;\">\n",
       "      <th></th>\n",
       "      <th>Site no.</th>\n",
       "      <th>County</th>\n",
       "      <th>pine_marten</th>\n",
       "      <th>red_squirrel</th>\n",
       "      <th>grey_squirrel</th>\n",
       "      <th>Date camera deployed</th>\n",
       "      <th>time camera set up</th>\n",
       "      <th>Date camera taken down</th>\n",
       "      <th>Time camera taken down</th>\n",
       "      <th>urban</th>\n",
       "      <th>people_km2</th>\n",
       "    </tr>\n",
       "  </thead>\n",
       "  <tbody>\n",
       "    <tr>\n",
       "      <th>0</th>\n",
       "      <td>1</td>\n",
       "      <td>Athlone</td>\n",
       "      <td>5</td>\n",
       "      <td>25</td>\n",
       "      <td>51</td>\n",
       "      <td>23-Feb</td>\n",
       "      <td>12:00</td>\n",
       "      <td>02-Mar</td>\n",
       "      <td>14:00</td>\n",
       "      <td>y</td>\n",
       "      <td>270.049900</td>\n",
       "    </tr>\n",
       "    <tr>\n",
       "      <th>1</th>\n",
       "      <td>2</td>\n",
       "      <td>Athlone</td>\n",
       "      <td>10</td>\n",
       "      <td>30</td>\n",
       "      <td>40</td>\n",
       "      <td>29-Apr</td>\n",
       "      <td>12:37</td>\n",
       "      <td>07-May</td>\n",
       "      <td>16:35</td>\n",
       "      <td>n</td>\n",
       "      <td>26.532700</td>\n",
       "    </tr>\n",
       "    <tr>\n",
       "      <th>2</th>\n",
       "      <td>3</td>\n",
       "      <td>Athlone</td>\n",
       "      <td>12</td>\n",
       "      <td>22</td>\n",
       "      <td>38</td>\n",
       "      <td>15-Feb</td>\n",
       "      <td>13:30</td>\n",
       "      <td>23-Feb</td>\n",
       "      <td>17:40</td>\n",
       "      <td>y</td>\n",
       "      <td>802.968149</td>\n",
       "    </tr>\n",
       "    <tr>\n",
       "      <th>3</th>\n",
       "      <td>4</td>\n",
       "      <td>Athlone</td>\n",
       "      <td>8</td>\n",
       "      <td>17</td>\n",
       "      <td>61</td>\n",
       "      <td>08-Mar</td>\n",
       "      <td>13:35</td>\n",
       "      <td>15-Mar</td>\n",
       "      <td>12:10</td>\n",
       "      <td>y</td>\n",
       "      <td>2761.494600</td>\n",
       "    </tr>\n",
       "    <tr>\n",
       "      <th>4</th>\n",
       "      <td>5</td>\n",
       "      <td>Athlone</td>\n",
       "      <td>8</td>\n",
       "      <td>16</td>\n",
       "      <td>52</td>\n",
       "      <td>06-Feb</td>\n",
       "      <td>NaN</td>\n",
       "      <td>00/01</td>\n",
       "      <td>NaN</td>\n",
       "      <td>n</td>\n",
       "      <td>12.888200</td>\n",
       "    </tr>\n",
       "    <tr>\n",
       "      <th>5</th>\n",
       "      <td>6</td>\n",
       "      <td>Athlone</td>\n",
       "      <td>6</td>\n",
       "      <td>25</td>\n",
       "      <td>43</td>\n",
       "      <td>23-Feb</td>\n",
       "      <td>12:00</td>\n",
       "      <td>02-Mar</td>\n",
       "      <td>14:00</td>\n",
       "      <td>y</td>\n",
       "      <td>270.049900</td>\n",
       "    </tr>\n",
       "  </tbody>\n",
       "</table>\n",
       "</div>"
      ],
      "text/plain": [
       "   Site no.   County  pine_marten  red_squirrel  grey_squirrel  \\\n",
       "0         1  Athlone            5            25             51   \n",
       "1         2  Athlone           10            30             40   \n",
       "2         3  Athlone           12            22             38   \n",
       "3         4  Athlone            8            17             61   \n",
       "4         5  Athlone            8            16             52   \n",
       "5         6  Athlone            6            25             43   \n",
       "\n",
       "  Date camera deployed time camera set up Date camera taken down  \\\n",
       "0               23-Feb              12:00                 02-Mar   \n",
       "1               29-Apr              12:37                 07-May   \n",
       "2               15-Feb              13:30                 23-Feb   \n",
       "3               08-Mar              13:35                 15-Mar   \n",
       "4               06-Feb                NaN                  00/01   \n",
       "5               23-Feb              12:00                 02-Mar   \n",
       "\n",
       "  Time camera taken down  urban   people_km2  \n",
       "0                   14:00     y   270.049900  \n",
       "1                   16:35     n    26.532700  \n",
       "2                   17:40     y   802.968149  \n",
       "3                   12:10     y  2761.494600  \n",
       "4                     NaN     n    12.888200  \n",
       "5                   14:00     y   270.049900  "
      ]
     },
     "execution_count": 86,
     "metadata": {},
     "output_type": "execute_result"
    }
   ],
   "source": [
    "s.head(6)                   #this just shows us the first few lines to make sure we have the data  "
   ]
  },
  {
   "cell_type": "markdown",
   "metadata": {},
   "source": [
    "The function **tail** works similarly, but shows the last few rows of data. <br>\n",
    "Display the last 3 rows. \n",
    "\n",
    "##  Solution "
   ]
  },
  {
   "cell_type": "code",
   "execution_count": 87,
   "metadata": {},
   "outputs": [
    {
     "data": {
      "text/html": [
       "<div>\n",
       "<style scoped>\n",
       "    .dataframe tbody tr th:only-of-type {\n",
       "        vertical-align: middle;\n",
       "    }\n",
       "\n",
       "    .dataframe tbody tr th {\n",
       "        vertical-align: top;\n",
       "    }\n",
       "\n",
       "    .dataframe thead th {\n",
       "        text-align: right;\n",
       "    }\n",
       "</style>\n",
       "<table border=\"1\" class=\"dataframe\">\n",
       "  <thead>\n",
       "    <tr style=\"text-align: right;\">\n",
       "      <th></th>\n",
       "      <th>Site no.</th>\n",
       "      <th>County</th>\n",
       "      <th>pine_marten</th>\n",
       "      <th>red_squirrel</th>\n",
       "      <th>grey_squirrel</th>\n",
       "      <th>Date camera deployed</th>\n",
       "      <th>time camera set up</th>\n",
       "      <th>Date camera taken down</th>\n",
       "      <th>Time camera taken down</th>\n",
       "      <th>urban</th>\n",
       "      <th>people_km2</th>\n",
       "    </tr>\n",
       "  </thead>\n",
       "  <tbody>\n",
       "    <tr>\n",
       "      <th>100</th>\n",
       "      <td>101</td>\n",
       "      <td>Kilkenny</td>\n",
       "      <td>60</td>\n",
       "      <td>91</td>\n",
       "      <td>6</td>\n",
       "      <td>10-Apr</td>\n",
       "      <td>14:45</td>\n",
       "      <td>22-Apr</td>\n",
       "      <td>16:06</td>\n",
       "      <td>y</td>\n",
       "      <td>3007.106764</td>\n",
       "    </tr>\n",
       "    <tr>\n",
       "      <th>101</th>\n",
       "      <td>102</td>\n",
       "      <td>Kilkenny</td>\n",
       "      <td>51</td>\n",
       "      <td>60</td>\n",
       "      <td>7</td>\n",
       "      <td>19-Mar</td>\n",
       "      <td>13:30</td>\n",
       "      <td>14-Mar</td>\n",
       "      <td>12:30</td>\n",
       "      <td>y</td>\n",
       "      <td>516.149199</td>\n",
       "    </tr>\n",
       "    <tr>\n",
       "      <th>102</th>\n",
       "      <td>103</td>\n",
       "      <td>Kilkenny</td>\n",
       "      <td>59</td>\n",
       "      <td>50</td>\n",
       "      <td>3</td>\n",
       "      <td>12-Feb</td>\n",
       "      <td>NaN</td>\n",
       "      <td>00/01</td>\n",
       "      <td>NaN</td>\n",
       "      <td>n</td>\n",
       "      <td>32.196850</td>\n",
       "    </tr>\n",
       "  </tbody>\n",
       "</table>\n",
       "</div>"
      ],
      "text/plain": [
       "     Site no.    County  pine_marten  red_squirrel  grey_squirrel  \\\n",
       "100       101  Kilkenny           60            91              6   \n",
       "101       102  Kilkenny           51            60              7   \n",
       "102       103  Kilkenny           59            50              3   \n",
       "\n",
       "    Date camera deployed time camera set up Date camera taken down  \\\n",
       "100               10-Apr              14:45                 22-Apr   \n",
       "101               19-Mar              13:30                 14-Mar   \n",
       "102               12-Feb                NaN                  00/01   \n",
       "\n",
       "    Time camera taken down  urban   people_km2  \n",
       "100                   16:06     y  3007.106764  \n",
       "101                   12:30     y   516.149199  \n",
       "102                     NaN     n    32.196850  "
      ]
     },
     "execution_count": 87,
     "metadata": {},
     "output_type": "execute_result"
    }
   ],
   "source": [
    "s.tail(3)"
   ]
  },
  {
   "cell_type": "markdown",
   "metadata": {},
   "source": [
    "**len()** will output the total length of a speciefied list of numbers. \n",
    "**columns** is a *subset* of our data sheet \"s\" that only contains a list of the names of each row. \n",
    "\n",
    "Using both the **len()** function and **columns**, can you find out how many columns of data there are?\n",
    "\n",
    "##  Solution "
   ]
  },
  {
   "cell_type": "code",
   "execution_count": 4,
   "metadata": {},
   "outputs": [
    {
     "data": {
      "text/plain": [
       "11"
      ]
     },
     "execution_count": 4,
     "metadata": {},
     "output_type": "execute_result"
    }
   ],
   "source": [
    "len(s.columns) "
   ]
  },
  {
   "cell_type": "markdown",
   "metadata": {},
   "source": [
    "Let's try creating a subset of a subset. You can create two seperate subsets (or \"conditions\") and combine them \n",
    "using \"&\". \n",
    "\n",
    "Show which sites counted in Kilkenny had a Pine Marten activity of 50 or more from the data.  \n",
    "What percentage (to two decimal places) of the overal Pine Marten activity in Kilkenny does this account for?\n",
    "\n",
    "Hint: You can format <font color='blue'> answer</font> to 2 decimal places by using **{:0.2f}\".format(**<font color='blue'> answer</font> **)** as you print it. \n",
    " \n",
    "## Solution"
   ]
  },
  {
   "cell_type": "code",
   "execution_count": 88,
   "metadata": {},
   "outputs": [
    {
     "data": {
      "text/html": [
       "<div>\n",
       "<style scoped>\n",
       "    .dataframe tbody tr th:only-of-type {\n",
       "        vertical-align: middle;\n",
       "    }\n",
       "\n",
       "    .dataframe tbody tr th {\n",
       "        vertical-align: top;\n",
       "    }\n",
       "\n",
       "    .dataframe thead th {\n",
       "        text-align: right;\n",
       "    }\n",
       "</style>\n",
       "<table border=\"1\" class=\"dataframe\">\n",
       "  <thead>\n",
       "    <tr style=\"text-align: right;\">\n",
       "      <th></th>\n",
       "      <th>Site no.</th>\n",
       "      <th>County</th>\n",
       "      <th>pine_marten</th>\n",
       "      <th>red_squirrel</th>\n",
       "      <th>grey_squirrel</th>\n",
       "      <th>Date camera deployed</th>\n",
       "      <th>time camera set up</th>\n",
       "      <th>Date camera taken down</th>\n",
       "      <th>Time camera taken down</th>\n",
       "      <th>urban</th>\n",
       "      <th>people_km2</th>\n",
       "    </tr>\n",
       "  </thead>\n",
       "  <tbody>\n",
       "    <tr>\n",
       "      <th>86</th>\n",
       "      <td>87</td>\n",
       "      <td>Kilkenny</td>\n",
       "      <td>51</td>\n",
       "      <td>68</td>\n",
       "      <td>8</td>\n",
       "      <td>not recorded</td>\n",
       "      <td>not recorded</td>\n",
       "      <td>not recorded</td>\n",
       "      <td>not recorded</td>\n",
       "      <td>y</td>\n",
       "      <td>689.260920</td>\n",
       "    </tr>\n",
       "    <tr>\n",
       "      <th>88</th>\n",
       "      <td>89</td>\n",
       "      <td>Kilkenny</td>\n",
       "      <td>67</td>\n",
       "      <td>92</td>\n",
       "      <td>2</td>\n",
       "      <td>10-Apr</td>\n",
       "      <td>14:45</td>\n",
       "      <td>22-Apr</td>\n",
       "      <td>16:06</td>\n",
       "      <td>y</td>\n",
       "      <td>3007.106764</td>\n",
       "    </tr>\n",
       "    <tr>\n",
       "      <th>90</th>\n",
       "      <td>91</td>\n",
       "      <td>Kilkenny</td>\n",
       "      <td>61</td>\n",
       "      <td>56</td>\n",
       "      <td>2</td>\n",
       "      <td>12-Feb</td>\n",
       "      <td>NaN</td>\n",
       "      <td>00/01</td>\n",
       "      <td>NaN</td>\n",
       "      <td>n</td>\n",
       "      <td>32.196850</td>\n",
       "    </tr>\n",
       "    <tr>\n",
       "      <th>92</th>\n",
       "      <td>93</td>\n",
       "      <td>Kilkenny</td>\n",
       "      <td>71</td>\n",
       "      <td>75</td>\n",
       "      <td>5</td>\n",
       "      <td>11-Feb</td>\n",
       "      <td>not recorded</td>\n",
       "      <td>18-Feb</td>\n",
       "      <td>not recorded</td>\n",
       "      <td>n</td>\n",
       "      <td>27.889734</td>\n",
       "    </tr>\n",
       "    <tr>\n",
       "      <th>93</th>\n",
       "      <td>94</td>\n",
       "      <td>Kilkenny</td>\n",
       "      <td>66</td>\n",
       "      <td>96</td>\n",
       "      <td>7</td>\n",
       "      <td>10-Apr</td>\n",
       "      <td>14:45</td>\n",
       "      <td>22-Apr</td>\n",
       "      <td>16:06</td>\n",
       "      <td>y</td>\n",
       "      <td>3007.106764</td>\n",
       "    </tr>\n",
       "    <tr>\n",
       "      <th>95</th>\n",
       "      <td>96</td>\n",
       "      <td>Kilkenny</td>\n",
       "      <td>66</td>\n",
       "      <td>61</td>\n",
       "      <td>3</td>\n",
       "      <td>12-Feb</td>\n",
       "      <td>NaN</td>\n",
       "      <td>00/01</td>\n",
       "      <td>NaN</td>\n",
       "      <td>n</td>\n",
       "      <td>32.196850</td>\n",
       "    </tr>\n",
       "    <tr>\n",
       "      <th>96</th>\n",
       "      <td>97</td>\n",
       "      <td>Kilkenny</td>\n",
       "      <td>71</td>\n",
       "      <td>70</td>\n",
       "      <td>2</td>\n",
       "      <td>03-Mar</td>\n",
       "      <td>15:00</td>\n",
       "      <td>11-Mar</td>\n",
       "      <td>16:15</td>\n",
       "      <td>y</td>\n",
       "      <td>1511.211406</td>\n",
       "    </tr>\n",
       "    <tr>\n",
       "      <th>99</th>\n",
       "      <td>100</td>\n",
       "      <td>Kilkenny</td>\n",
       "      <td>60</td>\n",
       "      <td>59</td>\n",
       "      <td>5</td>\n",
       "      <td>11-Feb</td>\n",
       "      <td>not recorded</td>\n",
       "      <td>18-Feb</td>\n",
       "      <td>not recorded</td>\n",
       "      <td>n</td>\n",
       "      <td>27.889734</td>\n",
       "    </tr>\n",
       "    <tr>\n",
       "      <th>100</th>\n",
       "      <td>101</td>\n",
       "      <td>Kilkenny</td>\n",
       "      <td>60</td>\n",
       "      <td>91</td>\n",
       "      <td>6</td>\n",
       "      <td>10-Apr</td>\n",
       "      <td>14:45</td>\n",
       "      <td>22-Apr</td>\n",
       "      <td>16:06</td>\n",
       "      <td>y</td>\n",
       "      <td>3007.106764</td>\n",
       "    </tr>\n",
       "    <tr>\n",
       "      <th>101</th>\n",
       "      <td>102</td>\n",
       "      <td>Kilkenny</td>\n",
       "      <td>51</td>\n",
       "      <td>60</td>\n",
       "      <td>7</td>\n",
       "      <td>19-Mar</td>\n",
       "      <td>13:30</td>\n",
       "      <td>14-Mar</td>\n",
       "      <td>12:30</td>\n",
       "      <td>y</td>\n",
       "      <td>516.149199</td>\n",
       "    </tr>\n",
       "    <tr>\n",
       "      <th>102</th>\n",
       "      <td>103</td>\n",
       "      <td>Kilkenny</td>\n",
       "      <td>59</td>\n",
       "      <td>50</td>\n",
       "      <td>3</td>\n",
       "      <td>12-Feb</td>\n",
       "      <td>NaN</td>\n",
       "      <td>00/01</td>\n",
       "      <td>NaN</td>\n",
       "      <td>n</td>\n",
       "      <td>32.196850</td>\n",
       "    </tr>\n",
       "  </tbody>\n",
       "</table>\n",
       "</div>"
      ],
      "text/plain": [
       "     Site no.    County  pine_marten  red_squirrel  grey_squirrel  \\\n",
       "86         87  Kilkenny           51            68              8   \n",
       "88         89  Kilkenny           67            92              2   \n",
       "90         91  Kilkenny           61            56              2   \n",
       "92         93  Kilkenny           71            75              5   \n",
       "93         94  Kilkenny           66            96              7   \n",
       "95         96  Kilkenny           66            61              3   \n",
       "96         97  Kilkenny           71            70              2   \n",
       "99        100  Kilkenny           60            59              5   \n",
       "100       101  Kilkenny           60            91              6   \n",
       "101       102  Kilkenny           51            60              7   \n",
       "102       103  Kilkenny           59            50              3   \n",
       "\n",
       "    Date camera deployed time camera set up Date camera taken down  \\\n",
       "86          not recorded       not recorded           not recorded   \n",
       "88                10-Apr              14:45                 22-Apr   \n",
       "90                12-Feb                NaN                  00/01   \n",
       "92                11-Feb       not recorded                 18-Feb   \n",
       "93                10-Apr              14:45                 22-Apr   \n",
       "95                12-Feb                NaN                  00/01   \n",
       "96                03-Mar              15:00                 11-Mar   \n",
       "99                11-Feb       not recorded                 18-Feb   \n",
       "100               10-Apr              14:45                 22-Apr   \n",
       "101               19-Mar              13:30                 14-Mar   \n",
       "102               12-Feb                NaN                  00/01   \n",
       "\n",
       "    Time camera taken down  urban   people_km2  \n",
       "86             not recorded     y   689.260920  \n",
       "88                    16:06     y  3007.106764  \n",
       "90                      NaN     n    32.196850  \n",
       "92            not recorded      n    27.889734  \n",
       "93                    16:06     y  3007.106764  \n",
       "95                      NaN     n    32.196850  \n",
       "96                    16:15     y  1511.211406  \n",
       "99            not recorded      n    27.889734  \n",
       "100                   16:06     y  3007.106764  \n",
       "101                   12:30     y   516.149199  \n",
       "102                     NaN     n    32.196850  "
      ]
     },
     "execution_count": 88,
     "metadata": {},
     "output_type": "execute_result"
    }
   ],
   "source": [
    "Kil = (s.County == \"Kilkenny\") # filter 1\n",
    "PM50 = (s.pine_marten >= 50)   # fileter 2\n",
    "KilPM = Kil & PM50             # combine filters\n",
    "s[KilPM]"
   ]
  },
  {
   "cell_type": "code",
   "execution_count": 13,
   "metadata": {},
   "outputs": [
    {
     "name": "stdout",
     "output_type": "stream",
     "text": [
      "0.61 %\n"
     ]
    }
   ],
   "source": [
    "PM_all = (s.pine_marten >= 0)             # all pine marten activity \n",
    "KilPM_all = Kil & PM_all                  # combinding filters to just get PM activity from Kilkenny \n",
    "ans1 = (len(s[KilPM])/len(s[KilPM_all]))\n",
    "\n",
    "print(\"{:0.2f}\".format(ans1),\"%\")"
   ]
  },
  {
   "cell_type": "markdown",
   "metadata": {},
   "source": [
    "From the data, how many sites counted in Dublin had a Pine Marten activity of 5 or less?  \n",
    "What percentage of the overal Pine Marten activity in Dublin does this account for?\n",
    "\n",
    "## Solution"
   ]
  },
  {
   "cell_type": "code",
   "execution_count": 15,
   "metadata": {},
   "outputs": [
    {
     "data": {
      "text/plain": [
       "53"
      ]
     },
     "execution_count": 15,
     "metadata": {},
     "output_type": "execute_result"
    }
   ],
   "source": [
    "Dub = (s.County == \"Dublin\")\n",
    "PM2 = (s.pine_marten <= 5)\n",
    "DubPM = Dub & PM2\n",
    "len(s[DubPM])"
   ]
  },
  {
   "cell_type": "code",
   "execution_count": 16,
   "metadata": {},
   "outputs": [
    {
     "name": "stdout",
     "output_type": "stream",
     "text": [
      "0.82 %\n"
     ]
    }
   ],
   "source": [
    "PM_all = (s.pine_marten >= 0)\n",
    "DubPM_all = Dub & PM_all\n",
    "\n",
    "ans2 = (len(s[DubPM])/len(s[DubPM_all]))\n",
    "\n",
    "print(\"{:0.2f}\".format(ans2),\"%\")"
   ]
  },
  {
   "cell_type": "markdown",
   "metadata": {},
   "source": [
    "The standard deviation tells us how closely data are gathered around the mean. A low standard deviation indicates data that\n",
    "are less dispersed away from the average. \n",
    "\n",
    "We want to compare the standard deviations of grey squirrel data for each county to \n",
    "see if there are any noticable differences. \n",
    "\n",
    "First let's find the standard deviation of grey squirrel activity in Athlone:\n",
    "\n",
    "* Calculate the mean, which will be sum of all your subset values divided by N (the number of values in that subset) \n",
    "* Find the variance: $$var = \\frac{\\sum (x-mean)^2}{N-1}$$ <br>\n",
    "* Use the **sqrt** function to find the square route of the variance, which gives the standard deviation. \n",
    "\n",
    "\n",
    "\n",
    "\n",
    "## Solution"
   ]
  },
  {
   "cell_type": "code",
   "execution_count": 53,
   "metadata": {},
   "outputs": [
    {
     "name": "stdout",
     "output_type": "stream",
     "text": [
      "\n",
      " Athlone:  10.189132497550101\n"
     ]
    }
   ],
   "source": [
    "Ath1 = s[(s.County == \"Athlone\")]\n",
    "x1 = (Ath1.grey_squirrel)\n",
    "mean1 = sum(x1) / len(x1)   # mean\n",
    "var1  = sum(((x-mean1)**2) for x in x1) / (len(x1)-1)  # variance\n",
    "std1  = math.sqrt(var1)\n",
    "\n",
    "\n",
    "\n",
    "\n",
    "print(\"\\n\",\"Athlone: \",std1)"
   ]
  },
  {
   "cell_type": "markdown",
   "metadata": {},
   "source": [
    "Find the standard deviation of the other two counties and display all three values. \n",
    "\n",
    "## Solution"
   ]
  },
  {
   "cell_type": "code",
   "execution_count": 54,
   "metadata": {},
   "outputs": [
    {
     "name": "stdout",
     "output_type": "stream",
     "text": [
      "\n",
      " Athlone:  10.189132497550101 \n",
      " Dublin:   10.039752716844404 \n",
      " Kilkenny: 2.3326329481056884 \n",
      "\n"
     ]
    }
   ],
   "source": [
    "Dub1 = s[(s.County == \"Dublin\")]\n",
    "x2 = (Dub1.grey_squirrel)\n",
    "mean2 = sum(x2) / len(x2)   # mean\n",
    "var2  = sum(((x-mean2)**2) for x in x2) / (len(x2)-1)  # variance\n",
    "std2  = math.sqrt(var2)\n",
    "\n",
    "Kil1 = s[(s.County == \"Kilkenny\")]\n",
    "x3 = (Kil1.grey_squirrel)\n",
    "mean3 = sum(x3) / len(x3)   # mean\n",
    "var3  = sum(((x-mean3)**2) for x in x3) / (len(x3)-1)  # variance\n",
    "std3  = math.sqrt(var3)\n",
    "\n",
    "print(\"\\n\",\"Athlone: \",std1,\"\\n\",\"Dublin:  \",std2,\"\\n\",\"Kilkenny:\",std3,\"\\n\")"
   ]
  },
  {
   "cell_type": "markdown",
   "metadata": {},
   "source": [
    "Now we want to visualise the data across the test sites. <br>\n",
    "Plot a stacked histogram with three bars (one for each county). Each bar should contain three coloured regions representing species populations for that county.   <br>\n",
    "\n",
    "\n",
    "Do you notice anything about the relationsips between the species from the plot?\n",
    "\n",
    "## Soltution"
   ]
  },
  {
   "cell_type": "code",
   "execution_count": 56,
   "metadata": {},
   "outputs": [
    {
     "data": {
      "image/png": "[encoded data removed]",
      "text/plain": [
       "<Figure size 432x288 with 1 Axes>"
      ]
     },
     "metadata": {
      "needs_background": "light"
     },
     "output_type": "display_data"
    }
   ],
   "source": [
    "PM = [5, 1,10]\n",
    "RED = [4, 1,10]\n",
    "GRY = [6, 10, 1]\n",
    "\n",
    "position = (\"Athlone\",\"Dublin\",\"Kilkenny\")\n",
    "\n",
    "\n",
    "plt.bar(position, PM, color='#581C00')\n",
    "\n",
    "plt.bar(position, RED, bottom=PM, color='r')\n",
    "\n",
    "plt.bar(position, GRY, bottom=[PM[j] +RED[j] for j in range(len(PM))], color='#C9C5BF')\n",
    " \n",
    "\n",
    "plt.xlabel(\"county\")\n",
    "plt.show()\n"
   ]
  },
  {
   "cell_type": "markdown",
   "metadata": {},
   "source": [
    "Let's try to get some info from this data. Firstly, display the average activites of each species per county. \n",
    "\n",
    "## Solution"
   ]
  },
  {
   "cell_type": "code",
   "execution_count": 73,
   "metadata": {},
   "outputs": [
    {
     "name": "stdout",
     "output_type": "stream",
     "text": [
      "\n",
      " Athlone  Site no.          10.50000\n",
      "pine_marten        9.10000\n",
      "red_squirrel      20.05000\n",
      "grey_squirrel     46.65000\n",
      "people_km2       774.78671\n",
      "dtype: float64 \n",
      " Dublin   Site no.          53.000000\n",
      "pine_marten        2.984615\n",
      "red_squirrel      12.676923\n",
      "grey_squirrel     80.215385\n",
      "people_km2       538.830817\n",
      "dtype: float64 \n",
      " kilkenny Site no.          94.500000\n",
      "pine_marten       55.222222\n",
      "red_squirrel      67.500000\n",
      "grey_squirrel      4.166667\n",
      "people_km2       887.857800\n",
      "dtype: float64\n"
     ]
    }
   ],
   "source": [
    "Ath = (s.County == \"Athlone\")\n",
    "ah = np.mean(s[Ath])\n",
    "\n",
    "Dub = (s.County == \"Dublin\")\n",
    "db = np.mean(s[Dub])\n",
    "\n",
    "Kil = (s.County == \"Kilkenny\")\n",
    "kk = np.mean(s[Kil])\n",
    "\n",
    "print(\"\\n\",\"Athlone \",ah,\"\\n\",\"Dublin  \",db,\"\\n\",\"kilkenny\",kk)"
   ]
  },
  {
   "cell_type": "markdown",
   "metadata": {},
   "source": [
    "It has been suggested that Pine Martens will try to avoid humans and urban areas. \n",
    "\n",
    "Dublin appears to have the lowest activity of Pine Martens.\n",
    "\n",
    "Try finding the percentage of sites in Dublin that are urban compared to rural (to two decimal places)\n",
    "\n",
    "## Solution"
   ]
  },
  {
   "cell_type": "code",
   "execution_count": 83,
   "metadata": {},
   "outputs": [
    {
     "name": "stdout",
     "output_type": "stream",
     "text": [
      "84.62 % of Dublin sites were urban.\n"
     ]
    }
   ],
   "source": [
    "Dub = (s.County == \"Dublin\")\n",
    "urby = (s.urban == \"y\")\n",
    "urbn = (s.urban == \"n\")\n",
    "Duburby = Dub & urby\n",
    "Duburbn = Dub & urbn\n",
    "perD = len(s[Duburby])/(len(s[Duburby])+len(s[Duburbn]))*100\n",
    "\n",
    "print(\"{:0.2f}\".format(perD),\"%\", \"of Dublin sites were urban.\")"
   ]
  },
  {
   "cell_type": "markdown",
   "metadata": {},
   "source": [
    "Find the percentage of sites in Kilkenny that are urban compared to rural (to three decimal places)\n",
    "\n",
    "## Solution"
   ]
  },
  {
   "cell_type": "code",
   "execution_count": 82,
   "metadata": {},
   "outputs": [
    {
     "name": "stdout",
     "output_type": "stream",
     "text": [
      "66.667 % of Kilkenny sites were urban.\n"
     ]
    }
   ],
   "source": [
    "Kil = (s.County == \"Kilkenny\")\n",
    "urby = (s.urban == \"y\")\n",
    "urbn = (s.urban == \"n\")\n",
    "Kilurby = Kil & urby\n",
    "Kilurbn = Kil & urbn\n",
    "perK = len(s[Kilurby])/(len(s[Kilurby])+len(s[Kilurbn]))*100\n",
    "\n",
    "print(\"{:0.3f}\".format(perK),\"%\", \"of Kilkenny sites were urban.\")"
   ]
  },
  {
   "cell_type": "markdown",
   "metadata": {},
   "source": [
    "## Part 2: Modelling Populations\n",
    "\n",
    "Let's model a population of red squirrels living in Kilkenny! \n",
    "\n",
    "Population size at a particular time \"t\" (in days) depends on the initial population at time 0, the carrying capactiy \"k\" (how many squirrels can the local area hold), and some constants (including a growth coefficient \"r\" ). To make a population model more accurate, you can add extra factors, such as the negative effects of predators. \n",
    "\n",
    "For now, we will model a simple population in a forest. \n",
    "\n",
    "## Solution"
   ]
  },
  {
   "cell_type": "code",
   "execution_count": null,
   "metadata": {},
   "outputs": [],
   "source": [
    "k=5000       # carrying capactiy: how many squirrels can the forest hold\n",
    "po=500       # initial population at t(0), or time = 0 \n",
    "A=(k-po)/po  # This is just a constant \n",
    "r=0.05       #The growth coefficient \n"
   ]
  },
  {
   "cell_type": "markdown",
   "metadata": {},
   "source": [
    "Great, so now we know all we need to get started!\n",
    "To begin, define a function that will tell us what the population should be at at a time \"t\". \n",
    "\n",
    "$$P(t) = \\frac{k}{(1+A\\times e^{-r\\times t})}$$\n"
   ]
  },
  {
   "cell_type": "code",
   "execution_count": null,
   "metadata": {},
   "outputs": [],
   "source": [
    "def p(t) :                  #define the name of the function \n",
    "    P = k/(1+A*math.exp(-r*t))\n",
    "    return P   # input the function "
   ]
  },
  {
   "cell_type": "markdown",
   "metadata": {},
   "source": [
    "Why don't we test out our new formula?\n",
    "Try calculating what the expected population of red squirrels will be 5 days after t=0. "
   ]
  },
  {
   "cell_type": "code",
   "execution_count": null,
   "metadata": {},
   "outputs": [],
   "source": [
    "p(5)"
   ]
  },
  {
   "cell_type": "markdown",
   "metadata": {},
   "source": [
    "We can see the population rises fairly quickly after just a few days. What busy squirrels. \n",
    "Since we are *developing* our model to be as realistic as possible, it may be helpful to graph it.\n",
    "\n",
    "Plot the function from day 0 to day 250. "
   ]
  },
  {
   "cell_type": "code",
   "execution_count": null,
   "metadata": {},
   "outputs": [],
   "source": [
    "def h(b):\n",
    "    l = []\n",
    "    for i in b:\n",
    "        l.append(int(p(i)))\n",
    "    return l\n",
    "xa = np.arange(0, 250, 1)\n",
    "plt.plot(xa, h(xa))\n",
    "plt.show()"
   ]
  },
  {
   "cell_type": "markdown",
   "metadata": {},
   "source": [
    "We can certainly see considerable growth as the squirrels approach the carrying capacity \"k\" of 5000.\n",
    "Notice how the function plateaus as it reaches its \"destination\" of 5000. \n",
    "\n"
   ]
  },
  {
   "cell_type": "code",
   "execution_count": null,
   "metadata": {},
   "outputs": [],
   "source": [
    "# possible extention of this exercise: add extra variables to drag down population after reaching near k"
   ]
  },
  {
   "cell_type": "markdown",
   "metadata": {},
   "source": [
    "## Part 3: Predator/Prey Relationships\n",
    "\n",
    "In real life, squirrel populations may not rise quite as steadily as that due to adverse factors such as disease and predation. \n",
    "With this section, we introduce pine martens to the forest, who hunt the squirrels. As the predators are succesfuly eating the squirrels, their population increases, pushing the squirrel population down. However, now there is not enough food for the predators! This makes the predator population fall, and the prey population to bounce back up, creating a cycle. We want to model this relationship. \n",
    "\n",
    "\n",
    "Let's get a function to run for a specific amount of time. <br>\n",
    "The start time will be zero, and we define the end time as a variable: \"max_time\"<br>\n",
    "The time-step is also important. We must instruct our function to count in regular intervals, denoted by the variable \"dt\".<br>\n",
    "In the box below, we will define five important variables: <br>\n",
    "* initial time \"t\" = 0\n",
    "* end time \"max_time\" which here will be 20 (the specific unit doesn't affect the program but we will call them days)\n",
    "* the time-step \"dt\" which we will make 0.05 (making 20 \"measurments\" per day)\n",
    "* initial Pine Marten population, \"x\" = 1.7 (counted in hundreds) \n",
    "* initial squirrel population, \"y\" = 1.8 (also in hundreds)\n",
    "\n",
    "## Solution"
   ]
  },
  {
   "cell_type": "code",
   "execution_count": 2,
   "metadata": {},
   "outputs": [],
   "source": [
    "dt = 0.05\n",
    "max_time = 20\n",
    "t = 0\n",
    "y = 1.8\n",
    "x = 1.7"
   ]
  },
  {
   "cell_type": "markdown",
   "metadata": {},
   "source": [
    "Great, so now we have defined the **initial conditions** for our model! \n",
    "Below, create three empty lists for time, predators, and prey"
   ]
  },
  {
   "cell_type": "code",
   "execution_count": 3,
   "metadata": {},
   "outputs": [],
   "source": [
    "tL = []\n",
    "preyL = []\n",
    "predL = []"
   ]
  },
  {
   "cell_type": "markdown",
   "metadata": {},
   "source": [
    "As we run our function across all values of t, these lists will be filled with population numbers for squirrels and pine martens. \n",
    "\n",
    "Now we need to make a model. Let's start with a very simple model, running under the condition that t has not exceeded max_time. <br>\n",
    "It is **essential** to remember that the number of prey affects the number of predators and vice-versa. This is reflected in the differential equations.<br> <br>\n",
    "Note how new values of $y$ depend on both the current values for $y$ and $x.$ \n",
    "<br>\n",
    "Define the following relationships. \n",
    "\n",
    "$$y_{n+1} = y_{n}+(y_{n} - y_{n} x_{n})dt $$ <br>\n",
    "$$x_{n+1} = x_{n}+(-x_{n} + y_{n} x_{n})dt $$ \n",
    "<br> \n",
    "where:\n",
    "* y is the number of prey\n",
    "* x is the number of predators \n",
    "* n is the number of times we've checked the populations.\n",
    "* dt is the time-step (the amount of time that passes between checks)\n",
    "\n",
    "Store the values of t, y, and x in your lists and plot both y and xator lists versus your time list. "
   ]
  },
  {
   "cell_type": "code",
   "execution_count": 4,
   "metadata": {
    "scrolled": true
   },
   "outputs": [
    {
     "ename": "NameError",
     "evalue": "name 'plt' is not defined",
     "output_type": "error",
     "traceback": [
      "\u001b[1;31m---------------------------------------------------------------------------\u001b[0m",
      "\u001b[1;31mNameError\u001b[0m                                 Traceback (most recent call last)",
      "\u001b[1;32m<ipython-input-4-cdcb6800028e>\u001b[0m in \u001b[0;36m<module>\u001b[1;34m\u001b[0m\n\u001b[0;32m      9\u001b[0m     \u001b[0mpredL\u001b[0m\u001b[1;33m.\u001b[0m\u001b[0mappend\u001b[0m\u001b[1;33m(\u001b[0m\u001b[0mx\u001b[0m\u001b[1;33m)\u001b[0m\u001b[1;33m\u001b[0m\u001b[1;33m\u001b[0m\u001b[0m\n\u001b[0;32m     10\u001b[0m \u001b[1;33m\u001b[0m\u001b[0m\n\u001b[1;32m---> 11\u001b[1;33m \u001b[0mplt\u001b[0m\u001b[1;33m.\u001b[0m\u001b[0mplot\u001b[0m\u001b[1;33m(\u001b[0m\u001b[0mtL\u001b[0m\u001b[1;33m,\u001b[0m \u001b[0mpreyL\u001b[0m\u001b[1;33m,\u001b[0m \u001b[1;34m'b'\u001b[0m\u001b[1;33m,\u001b[0m \u001b[0mtL\u001b[0m\u001b[1;33m,\u001b[0m \u001b[0mpredL\u001b[0m\u001b[1;33m,\u001b[0m \u001b[1;34m'g'\u001b[0m\u001b[1;33m,\u001b[0m \u001b[0mlw\u001b[0m \u001b[1;33m=\u001b[0m \u001b[1;36m2.5\u001b[0m\u001b[1;33m,\u001b[0m \u001b[0mlinestyle\u001b[0m\u001b[1;33m=\u001b[0m\u001b[1;34m'solid'\u001b[0m\u001b[1;33m,\u001b[0m \u001b[1;33m)\u001b[0m \u001b[1;31m# plot different colours for clarity\u001b[0m\u001b[1;33m\u001b[0m\u001b[1;33m\u001b[0m\u001b[0m\n\u001b[0m\u001b[0;32m     12\u001b[0m \u001b[0mplt\u001b[0m\u001b[1;33m.\u001b[0m\u001b[0mshow\u001b[0m\u001b[1;33m(\u001b[0m\u001b[1;33m)\u001b[0m\u001b[1;33m\u001b[0m\u001b[1;33m\u001b[0m\u001b[0m\n",
      "\u001b[1;31mNameError\u001b[0m: name 'plt' is not defined"
     ]
    }
   ],
   "source": [
    "while t <= max_time:                      #funtion won't run after time limit\n",
    "\n",
    "    t = t + dt                            # add increments of 0.05 to each \"day\" until we reach max_time\n",
    "    y = y + (y - y*x)*dt   # two functions where x and y are in some way intertwined. \n",
    "    x = x + (-x + y*x)*dt\n",
    "\n",
    "    tL.append(t)       # add to lists\n",
    "    preyL.append(y)\n",
    "    predL.append(x)\n",
    "\n",
    "plt.plot(tL, preyL, 'b', tL, predL, 'g', lw = 2.5, linestyle='solid', ) # plot different colours for clarity \n",
    "plt.show()"
   ]
  },
  {
   "cell_type": "markdown",
   "metadata": {},
   "source": [
    "What relationship between squirrel and pine marten populatons is shown in the plot? \n"
   ]
  },
  {
   "cell_type": "code",
   "execution_count": null,
   "metadata": {},
   "outputs": [],
   "source": [
    "#answer"
   ]
  },
  {
   "cell_type": "markdown",
   "metadata": {},
   "source": [
    "We want to make this model more realistic. The Lotka-Volterra Model is similar to the model used above but includes some additional parameters which will be used to modify the populations. \n",
    "We will include these paramaters as constant variables in our differential equations: \n",
    "* a = 0.6, this is the birth rate of the prey. \n",
    "* b = 0.4, prey death rate\n",
    "* c = 0.35, predator death rate\n",
    "* d = 0.21, predator birth rate\n",
    "\n",
    "$$y_{n+1} = y_{n}+({\\color{red} {a}} y_{n} - {\\color{red} {b}} y_{n} x_{n})dt $$ <br>\n",
    "$$x_{n+1} = x_{n}+(-{\\color{red} {c}} x_{n} + {\\color{red} {d}} x_{n} y_{n})dt $$ \n",
    "\n",
    "\n",
    "Bump up your max_time to 40 to get a better visualisation of the relationship"
   ]
  },
  {
   "cell_type": "code",
   "execution_count": 84,
   "metadata": {
    "scrolled": true
   },
   "outputs": [
    {
     "data": {
      "image/png": "[encoded data removed]",
      "text/plain": [
       "<Figure size 432x288 with 1 Axes>"
      ]
     },
     "metadata": {
      "needs_background": "light"
     },
     "output_type": "display_data"
    }
   ],
   "source": [
    "a = 0.6 # define variables. Small adjustments here make a large impact on the model\n",
    "b = 0.4\n",
    "c = 0.35\n",
    "d = 0.21\n",
    "\n",
    "max_time = 40\n",
    "dt = 0.05\n",
    "\n",
    "t = 0\n",
    "y = 1.8 # initial prey \n",
    "x = 1.7 # init pred\n",
    "\n",
    "tL = []  # refedine empty lists so that previous cell is wiped\n",
    "preyL = []\n",
    "predL = []\n",
    "\n",
    "while t <= max_time:\n",
    "\n",
    "    t = t + dt\n",
    "    y = y + (a*y - b*y*x)*dt  #Lotka-Volterra Model \n",
    "    x = x + (-c*x + d*y*x)*dt\n",
    "\n",
    "\n",
    "    tL.append(t)\n",
    "    preyL.append(y)\n",
    "    predL.append(x)\n",
    "\n",
    "\n",
    "plt.plot(tL, preyL, 'b', tL, predL, 'g', lw = 2.5, linestyle='solid', )\n",
    "plt.show()"
   ]
  },
  {
   "cell_type": "markdown",
   "metadata": {},
   "source": [
    "Why do you think there is a time lag between when prey numbers drop and when predator numbers drop?"
   ]
  },
  {
   "cell_type": "code",
   "execution_count": null,
   "metadata": {},
   "outputs": [],
   "source": [
    "#answer"
   ]
  }
 ],
 "metadata": {
  "kernelspec": {
   "display_name": "Python 3",
   "language": "python",
   "name": "python3"
  },
  "language_info": {
   "codemirror_mode": {
    "name": "ipython",
    "version": 3
   },
   "file_extension": ".py",
   "mimetype": "text/x-python",
   "name": "python",
   "nbconvert_exporter": "python",
   "pygments_lexer": "ipython3",
   "version": "3.7.4"
  }
 },
 "nbformat": 4,
 "nbformat_minor": 4
}

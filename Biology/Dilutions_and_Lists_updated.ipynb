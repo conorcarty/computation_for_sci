{
 "cells": [
  {
   "cell_type": "markdown",
   "metadata": {},
   "source": [
    "# Dilution problems\n",
    "\n",
    "A common laboratory skill is to create a solution with a desired concentration by diluting a stock solution with some amount of solvent. Given a stock solution with volume $V_1$ that has a concentration of solute $C_1$, the problem is to know how much solvent to add to arrive at the desired concentration, $C_2$.\n",
    "\n",
    "This volume can be calculated by realising that diluting the stock solution is not changing the amount of solute. The equation for this is, \n",
    "$$C_1 V_1 = C_2 V_2$$\n",
    "where $C_1 V_1$ is the amount of solute in the stock solution, $C_2 V_2$ is the amount of solute in the final solution and $V_2$ is the volume of the final solution. The amount of solvent to add to the stock solution is then $V_2 - V_1$."
   ]
  },
  {
   "cell_type": "markdown",
   "metadata": {},
   "source": [
    "Q1. You have 5 ml of a stock solution of ampicillin (a penicillin antibiotic) with a concentration of 100 mg/ml. You want to make a final ampicillin solution with a concentration of 25 mg/ml. \n",
    "<br>Create a variable \"C1\" to store your initial concentration, a variable \"V1\" to store your initial volume, and a variable \"C2\" to store your new concentration. Write a Python program to calculate the volume of solvent that should be **added** to the 5 ml of stock solution (\"V2\" is not the answer, but is used to find the answer!)."
   ]
  },
  {
   "cell_type": "code",
   "execution_count": null,
   "metadata": {},
   "outputs": [],
   "source": []
  },
  {
   "cell_type": "markdown",
   "metadata": {},
   "source": [
    "# Creating Lists\n",
    "\n",
    "A list is a Python data structure which collects objects together ('everything in Python is an object'). The contents of a list are referred to as elements. Other programming languages have similar data structures but they may have different names.\n",
    "\n",
    "You create a list by enclosing the elements in square brackets ([ ]). You can create an empty list by enclosing no elements between the square brackets or by calling the list() function:"
   ]
  },
  {
   "cell_type": "code",
   "execution_count": 4,
   "metadata": {},
   "outputs": [],
   "source": [
    "letters = []\n",
    "#alternative using list() function\n",
    "letters = list()"
   ]
  },
  {
   "cell_type": "markdown",
   "metadata": {},
   "source": [
    "When elements are added to the list each one has an associated 'index'. This is an integer which indicates the position of the element in the list. \n",
    "You can access each element of the list using the index operator ([ ]) and the appropriate integer:"
   ]
  },
  {
   "cell_type": "code",
   "execution_count": 15,
   "metadata": {},
   "outputs": [
    {
     "name": "stdout",
     "output_type": "stream",
     "text": [
      "A\n",
      "B\n"
     ]
    }
   ],
   "source": [
    "letters = ['A', 'B', 'C', 'D']\n",
    "print(letters[0])   # Let's access index '0' of the list.\n",
    "print(letters[1])   # Access index '1'"
   ]
  },
  {
   "cell_type": "markdown",
   "metadata": {},
   "source": [
    "Notice that the index referring to the letter 'A' is 0. This is because of Python like many (but not all) programming languages uses  zero-based counting, whereby counting begins at zero rather than 1.<br>\n",
    "This can cause some confusion when dealing with biological sequences which use 1-based counting for coordinates ie the first base of a sequence is base 1 (not zero)\n",
    "\n",
    "Index:&emsp;&emsp; &emsp; 0 1 2 3<br>\n",
    "List Element: A B C D"
   ]
  },
  {
   "cell_type": "markdown",
   "metadata": {},
   "source": [
    "Create a new list called \"fruits\" which contains the elements \"Apple\" and \"Grapes.\" Print the list."
   ]
  },
  {
   "cell_type": "code",
   "execution_count": null,
   "metadata": {},
   "outputs": [],
   "source": []
  },
  {
   "cell_type": "markdown",
   "metadata": {},
   "source": [
    "# Appending Lists\n",
    "When a blank list is created, we can add new items (or indexes) using the .append() function: "
   ]
  },
  {
   "cell_type": "code",
   "execution_count": 2,
   "metadata": {},
   "outputs": [
    {
     "name": "stdout",
     "output_type": "stream",
     "text": [
      "['Apple']\n",
      "['Apple', 'Grapes']\n"
     ]
    }
   ],
   "source": [
    "fruits = []\n",
    "fruits.append(\"Apple\")\n",
    "print(fruits)\n",
    "fruits.append(\"Grapes\")\n",
    "print(fruits)           # Now, we have added \"Grapes\" to the list."
   ]
  },
  {
   "cell_type": "markdown",
   "metadata": {},
   "source": [
    "We can also replace or call items using an index:"
   ]
  },
  {
   "cell_type": "code",
   "execution_count": 3,
   "metadata": {},
   "outputs": [
    {
     "name": "stdout",
     "output_type": "stream",
     "text": [
      "Apple\n",
      "0\n",
      "['Orange', 'Grapes']\n"
     ]
    }
   ],
   "source": [
    "print(fruits[0])             # The first entry is \"Apple\"\n",
    "print(fruits.index(\"Apple\")) # Where is \"Apple\" located? Index \"0\"\n",
    "fruits[0] = \"Orange\"         # We are replacing \"Apple\" with \"Orange\"\n",
    "print(fruits)"
   ]
  },
  {
   "cell_type": "markdown",
   "metadata": {},
   "source": [
    "# Iteration and Lists\n",
    "Finally, we can use for loops to append values to lists or to access each element in turn:"
   ]
  },
  {
   "cell_type": "code",
   "execution_count": null,
   "metadata": {},
   "outputs": [],
   "source": [
    "numbers = []\n",
    "for n in range(5):    # range() gives a range of numbers for 'n', starting at 0 and ending at 4.\n",
    "    numbers.append(n)\n",
    "    print(numbers)    # watch .append() in action as it adds each new 'n' to the list\n",
    "print(numbers)        # Completed list with [0, 1, 2, 3, 4]- five elements"
   ]
  },
  {
   "cell_type": "markdown",
   "metadata": {},
   "source": [
    "We can change the starting 'n' value of the for loop with the range() function:"
   ]
  },
  {
   "cell_type": "code",
   "execution_count": 7,
   "metadata": {},
   "outputs": [
    {
     "name": "stdout",
     "output_type": "stream",
     "text": [
      "[1, 2, 3, 4]\n"
     ]
    }
   ],
   "source": [
    "numbers = []           # Make 'numbers' list blank again\n",
    "for n in range(1, 5):  # We are telling the for loop to begin at 1, instead of zero\n",
    "    numbers.append(n)\n",
    "print(numbers)"
   ]
  },
  {
   "cell_type": "markdown",
   "metadata": {},
   "source": [
    "However, just because our 'numbers' list starts with the first element being '1' does not mean zero-based counting is not present- watch what happens when index 0 of the 'numbers' list is called:"
   ]
  },
  {
   "cell_type": "code",
   "execution_count": 8,
   "metadata": {},
   "outputs": [
    {
     "name": "stdout",
     "output_type": "stream",
     "text": [
      "1\n"
     ]
    }
   ],
   "source": [
    "print(numbers[0])"
   ]
  },
  {
   "cell_type": "markdown",
   "metadata": {},
   "source": [
    "Just like in the 'letters' list above:<br>\n",
    "Index:&emsp;&emsp; &emsp;0 1 2 3<br>\n",
    "List Element: 1 2 3 4"
   ]
  },
  {
   "cell_type": "markdown",
   "metadata": {},
   "source": [
    "Similarly, you can access and use elements in a list sequentially in a loop:"
   ]
  },
  {
   "cell_type": "code",
   "execution_count": 17,
   "metadata": {},
   "outputs": [
    {
     "name": "stdout",
     "output_type": "stream",
     "text": [
      "1 : 2\n",
      "2 : 4\n",
      "3 : 6\n",
      "4 : 8\n",
      "New numbers list:  [2, 4, 6, 8]\n"
     ]
    }
   ],
   "source": [
    "y = 2\n",
    "new_numbers = list()\n",
    "for element in numbers:\n",
    "    x = element * y\n",
    "    new_numbers.append(x)\n",
    "    print(element, \":\", x)\n",
    "print(\"New numbers list: \", new_numbers)"
   ]
  },
  {
   "cell_type": "markdown",
   "metadata": {},
   "source": [
    "A final important \"trick\" is when you want to create a list with the same dimensions as another list. This involves finding the length of the list and using that length to set a range for our for loop, as shown below."
   ]
  },
  {
   "cell_type": "code",
   "execution_count": 9,
   "metadata": {},
   "outputs": [
    {
     "name": "stdout",
     "output_type": "stream",
     "text": [
      "['A', 'A', 'A', 'A']\n"
     ]
    }
   ],
   "source": [
    "letters = []\n",
    "for i in range(len(numbers)): # find the length of \"numbers\" list, which is 4, and set the range() of the loop to 4.\n",
    "    letters.append('A')\n",
    "print(letters)\n",
    "\n",
    "letters = list('A' for i in range(len(numbers))) # This code, using list() accomplishes the same as the code above."
   ]
  },
  {
   "cell_type": "markdown",
   "metadata": {},
   "source": [
    "Now, create a new list called \"zeros\" that is the same length as \"numbers\" with a '0' at each index."
   ]
  },
  {
   "cell_type": "code",
   "execution_count": null,
   "metadata": {},
   "outputs": [],
   "source": []
  },
  {
   "cell_type": "markdown",
   "metadata": {},
   "source": [
    "# Find New Concentrations for Several Dilutions\n",
    "Back to our exercise:<br>\n",
    "Q2. Create a list that will store the concentration after adding from 1ml to 20 ml of solvent in steps of 1 ml (1ml, 2ml, 3ml, etc.) to the stock solution of ampicillin above (5 ml solution with 100 mg/ml concentration). Find these new concentrations and print the list.\n",
    "<br>**Create a table of the initial concentration and volume and the resulting concentration and volume.** *Maybe include tables in a separate section or tutorial?"
   ]
  },
  {
   "cell_type": "code",
   "execution_count": null,
   "metadata": {},
   "outputs": [],
   "source": []
  },
  {
   "cell_type": "markdown",
   "metadata": {},
   "source": [
    "# Serial Dilutions\n",
    "![Serial Dilutions Example](https://i.ytimg.com/vi/MCrNjHcfcpY/maxresdefault.jpg)\n",
    "\n",
    "Q3. When a serial dilution is performed, the 5 ml stock solution of ampicillin is diluted with 15 ml of solvent, but then from this 5 ml is extracted and diluted again with 15 ml of solvent. This is repeated multiple times. \n",
    "<br>**Modify your program from question 2 to calculate the resulting concentrations from performing up to 10 serial dilutions.** Round the concentrations to two decimal places using the round() function (in this case *round(your_concentration, 2)*)."
   ]
  },
  {
   "cell_type": "code",
   "execution_count": null,
   "metadata": {},
   "outputs": [],
   "source": []
  },
  {
   "cell_type": "markdown",
   "metadata": {},
   "source": [
    "Without looking at the lists, how many serial dilutions would need to be performed to reach a concentration of 0.10 mg/ml? Write a line of code below to find this answer."
   ]
  },
  {
   "cell_type": "code",
   "execution_count": null,
   "metadata": {},
   "outputs": [],
   "source": []
  },
  {
   "cell_type": "markdown",
   "metadata": {},
   "source": [
    "Q4. Produce a graph that visualises the tables from question 2 and question 3.\n",
    "\n",
    "<font color=red>Only if they've done some matplotlib already. Otherwise maybe include the code here as a demo</font>"
   ]
  },
  {
   "cell_type": "code",
   "execution_count": 2,
   "metadata": {},
   "outputs": [],
   "source": [
    "%matplotlib inline\n",
    "import matplotlib.pyplot as plt\n",
    "\n"
   ]
  }
 ],
 "metadata": {
  "kernelspec": {
   "display_name": "Python 3",
   "language": "python",
   "name": "python3"
  },
  "language_info": {
   "codemirror_mode": {
    "name": "ipython",
    "version": 3
   },
   "file_extension": ".py",
   "mimetype": "text/x-python",
   "name": "python",
   "nbconvert_exporter": "python",
   "pygments_lexer": "ipython3",
   "version": "3.7.1"
  }
 },
 "nbformat": 4,
 "nbformat_minor": 2
}

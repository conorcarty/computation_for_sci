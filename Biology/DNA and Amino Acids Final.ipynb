{
 "cells": [
  {
   "cell_type": "markdown",
   "metadata": {},
   "source": [
    "# DNA and amino acids\n",
    "\n",
    "In this exercise you will write several functions that will allow you to manipulate DNA sequences in various ways. <br>DNA provides important information about an organism's structure. For example: is the organism resistant or more prone to developing a certain disease? Could these resistance mechanisms be applied to the medical field? What other species would this organism be related to? Is the organism's population lacking genetic diversity, leading to extinction? Understanding the genetics of organisms is crucial to many fields, like medicine, environmental conservation, and forensics."
   ]
  },
  {
   "cell_type": "markdown",
   "metadata": {},
   "source": [
    "# Base Complements\n",
    "DNA has a code, composed of A's, G's, C's, and T's. DNA is a double stranded molecule, and the strands' binding to one another is dependent upon a condition being met- the base complements. A is complementary to T (meaning they bind to one another), and C is complementary to G. Observe the image below and notice how the bases of the top strand complement the bottom strand. The first A on the top strand binds to the corresponding T of the bottom strand, and so on. "
   ]
  },
  {
   "cell_type": "markdown",
   "metadata": {},
   "source": [
    "![Base Pairing Rules](https://upload.wikimedia.org/wikipedia/commons/1/1a/Complementarity_%28DNA%29.png)"
   ]
  },
  {
   "cell_type": "markdown",
   "metadata": {},
   "source": [
    "<br>Write a function `compBase(N)` that takes a single DNA base `\"A\"`, `\"G\"`, `\"T\"`, or `\"C\"` as input and returns the base that is complementary to it. A and T are complementary to each other, as well as G and C to each other. So, for example, `compBase(\"A\")` should return `\"T\"`.\n",
    "\n",
    "### Solution"
   ]
  },
  {
   "cell_type": "code",
   "execution_count": null,
   "metadata": {},
   "outputs": [],
   "source": []
  },
  {
   "cell_type": "markdown",
   "metadata": {},
   "source": [
    "# Reverse Complements\n",
    "Special cellular machinery needs to read DNA in order for all of the proteins in a cell to be produced. If DNA is read in the wrong direction, you will end up with the wrong protein! Like a book or lines on a page, DNA is read in a specific direction, known as 5' to 3' (pronouned 5 'prime' to 3 'prime'). These numbers refer to the position of a carbon in the ribose sugar that makes DNA (**however, this knowledge is not important to the exercise**). DNA is antiparallel, meaning its strands travel in opposite directions. Look back at the image above and notice that the top strand should be read from left to right (5' to 3' direction), whereas the bottom strand should be read from right to left!\n",
    "<br>In this section we will write a function that takes a DNA string as input (in 5' to 3' order) and returns the sequence of it's complementary DNA strand, also in 5' to 3' order. In order to accomplish this, we must first reverse the order of the DNA string and then replace each individual letter in the string with its base complement. "
   ]
  },
  {
   "cell_type": "markdown",
   "metadata": {},
   "source": [
    "## Reversing the string\n",
    "First, write a function called `reverse(s)` that reverses a string. So if this function took `\"Hello\"` as input, it should return `\"olleH\"`. \n",
    "### Solution"
   ]
  },
  {
   "cell_type": "code",
   "execution_count": null,
   "metadata": {},
   "outputs": [],
   "source": []
  },
  {
   "cell_type": "markdown",
   "metadata": {},
   "source": [
    "## Getting the reverse complement\n",
    "Now write a function `reverseComplement(DNA)` that uses both your `reverse(s)` and your `compBase(N)` functions which takes a DNA string as input and returns its reverse complement. Demonstrated by our example sequences:\n",
    "\n",
    "5' - AGGGCCCTTTT - 3' *Coding Strand*  \n",
    "3' - TCCCGGGAAAA - 5' *Template Strand* \n",
    "\n",
    "We want to see the bottom strand (the template strand) as:\n",
    "5' - AAAAGGGCCCT - 3'\n",
    "\n",
    "Which is the \"reverse complement\" of the top strand (the coding strand). *The naming of these strands will be explained in a moment.*\n",
    "\n",
    "### Solution"
   ]
  },
  {
   "cell_type": "code",
   "execution_count": null,
   "metadata": {},
   "outputs": [],
   "source": []
  },
  {
   "cell_type": "markdown",
   "metadata": {},
   "source": [
    "# DNA to amino acids\n",
    "In this section, your objective is to write a function which converts from DNA to a sequence of amino acids.\n",
    "<br>![Amino Acid Code](https://i.gyazo.com/ca99073ed8dc533d755c73b81518117e.png)\n",
    "<br>Amino acids are the building blocks of proteins. When DNA is first read by protein machinery, it produces a new molecule called RNA, which is complementary to DNA (T's are replaced by a new base, U). Because of the very specific binding patterns, we know exactly what the RNA will look like. The process is shown below. Notice how the RNA molecule is complementary to the DNA strand it is 'copying' or 'trascribing'- RNA's first A binds to DNA's T, the U (RNA's \"version\" of T) binds to A, and so on. \n",
    "<br>![Transcription and Translation](https://i.stack.imgur.com/QU1ba.png)\n",
    "<br>Because we can predict this process of how RNA will be made, we don't need to think about it in our code- we can immediately predict what protein the DNA will produce, as the DNA determines what RNA is produced! To put it simply, DNA is read in groups of three bases (A's, G's, C's, and T's) at a time. These groups of three are called \"codons,\" which **code** for the protein that will be produced! The chart above outlines which codons make which amino acids. We have prepared some data structures below that store the information from the chart. "
   ]
  },
  {
   "cell_type": "markdown",
   "metadata": {},
   "source": [
    "Below are lists which contain everything we need to convert from DNA to a sequence of amino acids. "
   ]
  },
  {
   "cell_type": "code",
   "execution_count": 9,
   "metadata": {},
   "outputs": [],
   "source": [
    "aa = ['F','L','I','M','V','S','P','T','A','Y',\n",
    "      '|','H','Q','N','K','D','E','C','W','R',\n",
    "      'G']\n",
    "\n",
    "codons = [['TTT', 'TTC'],\n",
    "          ['TTA', 'TTG', 'CTT', 'CTC', 'CTA', 'CTG'],\n",
    "          ['ATT', 'ATC', 'ATA'],\n",
    "          ['ATG'],\n",
    "          ['GTT', 'GTC', 'GTA', 'GTG'],\n",
    "          ['TCT', 'TCC', 'TCA', 'TCG', 'AGT', 'AGC'],\n",
    "          ['CCT', 'CCC', 'CCA', 'CCG'],\n",
    "          ['ACT', 'ACC', 'ACA', 'ACG'],\n",
    "          ['GCT', 'GCC', 'GCA', 'GCG'],\n",
    "          ['TAT', 'TAC'],\n",
    "          ['TAA', 'TAG', 'TGA'],\n",
    "          ['CAT', 'CAC'],\n",
    "          ['CAA', 'CAG'],\n",
    "          ['AAT', 'AAC'],\n",
    "          ['AAA', 'AAG'],\n",
    "          ['GAT', 'GAC'],\n",
    "          ['GAA', 'GAG'],\n",
    "          ['TGT', 'TGC'],\n",
    "          ['TGG'],\n",
    "          ['CGT', 'CGC', 'CGA', 'CGG', 'AGA', 'AGG'],\n",
    "          ['GGT', 'GGC', 'GGA', 'GGG']]"
   ]
  },
  {
   "cell_type": "markdown",
   "metadata": {},
   "source": [
    "Let's discuss what all of this represents! `aa` is a list consisting of the 20 amino acids. Meanwhile, `codons` is a list of lists!! Notice the first list in `codons` is `['TTT', 'TTC']`. What this means is that the codons `'TTT'` and `'TTC'` both code for the first element in `aa`, which is `'F'`. Similarily, the fifth list in `codons` is `['GTT', 'GTC', 'GTA', 'GTG']`, while the fifth element in `aa` is `'V'`, which means that all of those codons code for `'V'`. So we can use `aa` and `codons` as a guide to tell us which codons code for which amino acid. \n",
    "\n",
    "\n",
    "## Converting one codon\n",
    "Your first task is to write a function called `amino(codon)` which takes as its input a codon string (a string of three letters) and returns the corresponding amino acid. One way to do this is to use a for loop that marches from 0 to the length of the aa list. For each index in that range, we can check if the codon is in the codon list at that index.\n",
    "\n",
    "### Solution"
   ]
  },
  {
   "cell_type": "code",
   "execution_count": null,
   "metadata": {},
   "outputs": [],
   "source": []
  },
  {
   "cell_type": "markdown",
   "metadata": {},
   "source": [
    "## Converting a Sequence\n",
    "Remember the mention of \"coding\" and \"template\" strands above. Here's a final image to explain:\n",
    "![Template and Coding](https://images.app.goo.gl/T6zUNocyFb8eVZhc8)\n",
    "\n",
    "Crucially, the top strand, the coding strand, is so-named because it contains the code for the protein- notice that the RNA produced looks exactly like the coding strand, just with U's instead of T's (in its own language). If you find a region of DNA statistically associated with an important trait, like antibiotic resistance in bacteria, you can find the protein sequence from this region of DNA. You will not need to find the reverse complement of a strand if it is the coding sequence- you only need to find the amino acids it codes for! However, you will not immediately know if you are looking at the template or looking at the coding strand- once you translate the codes to amino acids, you will have a fairly good idea if you're working with the template strand or coding strand. The coding strand will be uninterrupted with no 'stop' (|) codons (a full protein!), whereas the template strand may contain many stops. \n",
    "<br>Stop codons tell the protein machinery when to stop reading the RNA, and the protein is released into the cell. If the stop codon is earlier than expected, the protein will be cut-off or 'truncated.'\n",
    "\n",
    "Write a function `codingStrandToAA(DNA)` that takes a sequence of DNA and returns the corresponding amino acids as a string. We are providing you with the **coding strand** (no need to find the reverse complement!). Assume that the reading frame begins with the first base and continues on to the last nucleotide (i.e `codingStrandToAA(DNA)` doesn't need to worry about start and stop codons). You will need to loop through the `DNA` string in steps of 3, checking which amino acid corresponds to each codon. You should definitely use your `amino(codon)` function here!\n",
    "\n",
    "#### Examples\n",
    "`codingStrandToAA(\"AGTCCCGGGTTT\")` should return `'SPGF'`.\n",
    "\n",
    "`codingStrandToAA(\"ATGCAACAGCTC\")` should return `'MQQL'`.\n",
    "### Solution"
   ]
  },
  {
   "cell_type": "code",
   "execution_count": null,
   "metadata": {},
   "outputs": [],
   "source": []
  },
  {
   "cell_type": "markdown",
   "metadata": {},
   "source": [
    "## Random Sequence\n",
    "Now for a \"realworld\" example! Let's say you have found a group of *E. coli* that are resistant to penicillins, or \"beta-lactam\" antibiotics. Through several selection experiments, you have isolated the region of DNA you believe to be responsible for this antibiotic resistant quality. Adminstering the DNA to normal or \"wildtype\" *E. coli* causes these bacteria to take on the antibiotic resistant trait (a process called \"transformation\"). You have sequence the DNA, but don't know which side is the coding strand or the template strand (they aren't labelled obviously!). We have provided one strand below (in the 5' to 3' direction).\n",
    "\n",
    "Find the protein that is being produced to make these bacteria antibiotic resistant! Remember, the template strand will contain many odd 'stop' codons in the middle of your protein, meaning the \"protein\" is being truncated. Therefore, it would not be the coding strand (the uninterrupted sequence)."
   ]
  },
  {
   "cell_type": "code",
   "execution_count": null,
   "metadata": {},
   "outputs": [],
   "source": [
    "mystery_seq = \"TTACTGTAGAGCGTTAAGAATCTGCCAGGCGGCGTCGACTCTCGCTGGATTGGGATAGTTTTTGTTTGCCAGCATCACGATACCCAGCTCTTTTTCTGGAATAAACGCGACATAGCTACCAAATCCGCCGGTCGCCCCTGTTTTATGTACCCATGATGCGCGTACTGCAGGAGTTGGGGGCGTAATCGCTTTTACGGGGCGTGCTGCCAGTGCAATTTTATTGTCACTGCCGTTAATGATGCTGTCAGGATTTACCGGCCAGTCCAGCATTTCCCAGCCCAGGCCCTGATACATATCGCCGGTTTGCCAGTAGCGAGATTGTGCCAGTTGTATCCCTTGTTGAAGCGTTTTCTCATTGATATCAAGGGGTTTTAAATTGCTTTGCACCCAGCGGGCCATATCTTCAATGGTCGACTTCACACCATAAGCTTCAGCATCTAACGCCCCAGGCGAAACATGCACTGCCTTACCTTCGCGATATCCCCAGGCGTAATTCTTTTCTTCTGCGGGCGGTACATTAATCCACGTATGGTTGAGTTTGAGTGGCTGGAAGACACGAGTTTGCATCGCCTGCTCAAAACTCAAACCAGACGGCTTCACAGCCAGTGCGCCGAACAAACCGATACTGGAGTTGGCATACAGACGTTGTGTTCCTGGAGCCCATGCAGGCTGCCAGTTTTGATAGAAGCGCAGCAAGTCGCTTGAGGATTTCACCTCATCCGGCACCTGCAATGGCAGGCCGCCAGCAGTGTAGGTTGCGAGATGTAATAGTGTGATCCCATTCCACTGTTTAGCGGTAAGTTCAGGCCAGTATTTTGTTGTGGGATCGCTTAACTTGATTTCCCCTCGAGCAATAGCGTCGCCACCAAGCACGCCAGTAAATGTTTTGCTGACCGAACCTAACTCAAACAACGTTTGCTGTGTGACGGGCTGCTTTTTGGCGATGTCCGCATAGCCCCAGGTAAAGTAATAAGGTTTACCCTGATAAATTACCGCCACCGCCATACCCGGGATCTTTTGTTGCTCTATAAGCGGGGTAATTGTGCGATGCACAATATCGTTGATTTGTTGAGGGGCAGCAAATGTGGAGCAAGAGGCGGTAATTAATAAGGCGCAGAGCGTCGTTTTGAACAT\""
   ]
  },
  {
   "cell_type": "markdown",
   "metadata": {},
   "source": [
    "## Conclusion\n",
    "You can find that your resistance sequence is actually **very** real: https://www.ncbi.nlm.nih.gov/nuccore. (Search for the column \"CDS\" on the bottom of the page). Beta-lactamases are enzymes produced by bacteria that effectively breakdown pencillin antibiotics!<br>\n",
    "There are many complex components of reading DNA that were not covered in this tutorial (like, how do you necessarily know where to start reading the DNA, not all sequences are going to be in nice groups of 3 due to different regulatory and insulator regions, etc.). However, this tutorial has provided you with a very realistic look into the basics of many gene reader programs and how they function."
   ]
  }
 ],
 "metadata": {
  "anaconda-cloud": {},
  "kernelspec": {
   "display_name": "Python 3",
   "language": "python",
   "name": "python3"
  },
  "language_info": {
   "codemirror_mode": {
    "name": "ipython",
    "version": 3
   },
   "file_extension": ".py",
   "mimetype": "text/x-python",
   "name": "python",
   "nbconvert_exporter": "python",
   "pygments_lexer": "ipython3",
   "version": "3.7.1"
  }
 },
 "nbformat": 4,
 "nbformat_minor": 1
}

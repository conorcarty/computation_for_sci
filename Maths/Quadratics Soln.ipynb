{
 "cells": [
  {
   "cell_type": "markdown",
   "metadata": {},
   "source": [
    "# Fun with quadratics!\n",
    "\n",
    "In this exercise you will write code to check how many real solutions a quadratic equation has.\n",
    "\n",
    "\n",
    "Recall that we can use the *discriminant* to check this. If our quadratic equation is:\n",
    "\n",
    "$$ ax^2 + bx + c = 0 $$\n",
    "\n",
    "($a$, $b$ and $c$ are referred to as the **coefficients** of the quadratic equation)\n",
    "\n",
    "then the discriminant is:\n",
    "\n",
    "$$ D = b^2 - 4ac $$\n",
    "\n",
    "The number of real solutions of the quadratic equation depends on the sign of the discriminant. We have three possibilites:\n",
    "\n",
    "* If $D>0$, then the equation has **two distinct, real roots**. \n",
    "* If $D=0$, then the equation has **one repeated, real root**.\n",
    "* If $D<0$, then the equation has **no real roots**. \n",
    "\n"
   ]
  },
  {
   "cell_type": "markdown",
   "metadata": {},
   "source": [
    "## Calculating the discriminant\n",
    "\n",
    "Write a function `discriminant(a,b,c)` which takes the coefficients a, b and c of a quadratic equation as its arguments and returns the discriminant of that quadratic.\n",
    "\n",
    "### Example\n",
    "\n",
    "Given this equation:\n",
    "\n",
    "$$10x^2 - 3x + 8 = 0$$\n",
    "\n",
    "We would like to calculate the discriminant. We first notice that $a = 10$, $b = -3$ and $c = 8$. Then we will call our function with these arguments to get our answer:\n",
    " \n",
    ">`discriminant(10, -3, 8)`\n",
    "\n",
    "> -311\n",
    "\n",
    "Your task is to write this function `discriminant(a, b, c)`.\n",
    "\n",
    "## Solution"
   ]
  },
  {
   "cell_type": "code",
   "execution_count": 1,
   "metadata": {
    "collapsed": true
   },
   "outputs": [],
   "source": [
    "#function to calculate the discriminant given the coefficients of a quadratic\n",
    "def discriminant(a, b, c):\n",
    "    return b**2 - 4*a*c"
   ]
  },
  {
   "cell_type": "markdown",
   "metadata": {},
   "source": [
    "## Getting the number of distinct, real roots\n",
    "\n",
    "Now that we have a function which can calculate the discriminant for a given quadratic, write another function that returns the number of distinct, real roots of a given quadratic.\n",
    "\n",
    "The function should be called `num_roots(a, b, c)` and take the coefficients of the quadratic you want to investigate as arguments. Depending on how many roots the quadratic has, your function should return the relevant string from these options:\n",
    "\n",
    "* \"This equation has two distinct, real roots.\"\n",
    "* \"This equation has one repeated, real root.\"\n",
    "* \"This equation has no real roots.\"\n",
    "\n",
    "### Example\n",
    "\n",
    "Continuing on from our previous example, we could use our new `num_roots(a, b, c)` function to calculate the number real roots of equation (1) above.\n",
    "\n",
    ">`num_roots(10, -3, 8)`\n",
    "\n",
    "> This equation has no real roots.\n",
    "\n",
    "## Solution"
   ]
  },
  {
   "cell_type": "code",
   "execution_count": 4,
   "metadata": {
    "collapsed": false
   },
   "outputs": [],
   "source": [
    "def num_roots(a, b, c):\n",
    "    #first calculate the discriminant using our previous work\n",
    "    d = discriminant(a,b,c)\n",
    "    \n",
    "    #Based on the conditions outlined above, return the relevant string\n",
    "    if (d > 0):\n",
    "        return \"This equation has two distinct, real roots.\"\n",
    "    \n",
    "    elif (d == 0):\n",
    "        return \"This equation has one repeated, real root.\"\n",
    "    \n",
    "    else:\n",
    "        return \"This equation has no real roots.\""
   ]
  },
  {
   "cell_type": "markdown",
   "metadata": {},
   "source": [
    "## Calculating roots of a quadratic equation, provided there are no complex roots\n",
    "\n",
    "In this section you will write a function to calculate any real roots of a quadratic equation. Recall that we can use the quadratic formula to find the roots of a quadratic equation:\n",
    "\n",
    "$$ x = \\frac{-b \\pm \\sqrt{b^2 - 4ac}}{2a} $$\n",
    "\n",
    "where $a$, $b$ and $c$ are the coefficients as before.\n",
    "\n",
    "We will, however, have to be prudent. Sometimes this formula will spit out complex numbers. If a given quadratic equation has no real roots, then it will have two complex roots instead. It is, in fact, possible to deal with complex numbers in Python, but for the purpose of the exercise, we are going to avoid them.\n",
    "\n",
    "Write a function `get_roots(a, b, c)` that takes the coefficients of a quadratic equation as it's parameters. It should return a list with three entries:\n",
    "\n",
    "* The first entry should be a Boolean set to True if there are real solutions, or False if there are no real solutions\n",
    "\n",
    "* The second and third entry should be set to the values of the two roots if there are real roots (if they are repeated roots then both should just have the same value) or both set to 0 if there are no real roots. \n",
    "\n",
    "When writing this function, use your work above to check whether or not the function will have any real roots **before** you calculate the quadratic formula. Remember, if there are no real roots you shouldn't use the formula at all!\n",
    "\n",
    "\n",
    "<!--(Just in case you are wondering why you have been asked to return the answer in such a strange form, I'm glad you're questioning that! While this form does seem quite strange at first, let's think about how this function would work in practice. Imagine you are researching a problem in science that involves solving quadratics. Let's say you don't want to use any solutions that appear at any stage that are complex, you only want to work with real solutions. Presumably you'd prefer it if your code was robust enough to not give you an error and kick up a big fuss if it came across a complex number - this would require your attention and you're far too busy for that! Now think about what happens if you only return two numbers in a list from your `get_roots(a,b,c)` function. If we have two real roots, there isn't any problem. However, if they are complex, your computer will have to look at them after they are returned from the `get_roots(a,b,c)` function before it knows this. What we are doing above is returning an extra number (often called a \"flag\") which gives us a way to know whether or not we've got real solutions, without even having to look at the solutions! As we can deal with complex numbers in Python, a flag isn't strictly necessary here, but it is necessary in more complex -->\n",
    "\n",
    "## Solution"
   ]
  },
  {
   "cell_type": "code",
   "execution_count": null,
   "metadata": {
    "collapsed": true
   },
   "outputs": [],
   "source": [
    "    "
   ]
  }
 ],
 "metadata": {
  "anaconda-cloud": {},
  "kernelspec": {
   "display_name": "Python [default]",
   "language": "python",
   "name": "python3"
  },
  "language_info": {
   "codemirror_mode": {
    "name": "ipython",
    "version": 3
   },
   "file_extension": ".py",
   "mimetype": "text/x-python",
   "name": "python",
   "nbconvert_exporter": "python",
   "pygments_lexer": "ipython3",
   "version": "3.5.2"
  }
 },
 "nbformat": 4,
 "nbformat_minor": 1
}

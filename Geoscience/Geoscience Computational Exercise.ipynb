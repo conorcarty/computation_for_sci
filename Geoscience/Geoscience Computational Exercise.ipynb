{
 "cells": [
  {
   "cell_type": "markdown",
   "metadata": {},
   "source": [
    "# Geoscience computational exercise\n",
    "A mining company has drilled 598 boreholes on a regular grid in a 13 km by 46 km\n",
    "area whilst prospecting for copper. In each borehole, the company have measured:\n",
    "(a) The thickness of the copper-bearing rock formation, in meters.\n",
    "(b) The average copper concentration of this rock formation, in parts per million by\n",
    "volume (ppm).\n",
    "1. Calculate the total amount of the copper in the entire area (give your answer to\n",
    "the nearest tonne; 1 tonne = 1000 kg). The density of copper is 8960 kg/m3.\n",
    "1. The company wants to put a 3 km by 3 km mine in the area. Find the X and Y\n",
    "locations of the centre of this mine, for the mine location that will contain the\n",
    "most copper.\n",
    "Report your results in the grey cells in the spreadsheet."
   ]
  },
  {
   "cell_type": "code",
   "execution_count": 25,
   "metadata": {
    "collapsed": false
   },
   "outputs": [],
   "source": [
    "#---------------------------------------------------------\n",
    "#This code imports the data we need to solve the question. \n",
    "import pandas as pd\n",
    "\n",
    "dataframe = pd.read_csv('boreholes.csv')\n",
    "conc = dataframe['concentration'].values.tolist()\n",
    "thickness = dataframe['thickness'].values.tolist()"
   ]
  },
  {
   "cell_type": "markdown",
   "metadata": {},
   "source": [
    "## Part 1"
   ]
  },
  {
   "cell_type": "code",
   "execution_count": 24,
   "metadata": {
    "collapsed": false
   },
   "outputs": [
    {
     "name": "stdout",
     "output_type": "stream",
     "text": [
      "5539\n"
     ]
    }
   ],
   "source": [
    "#running count of the total mass of coppper\n",
    "total_mass = 0\n",
    "\n",
    "#density of copper\n",
    "density_cu = 8960\n",
    "\n",
    "for i in range(len(conc)):\n",
    "    total_mass += (conc[i]*thickness[i]*density_cu*100*100)/1000000\n",
    "\n",
    "#calculate the mass of copper in tonnes, rounded to the nearest tonne\n",
    "total_mass_t = round(total_mass/1000)\n",
    "print(total_mass_t)"
   ]
  },
  {
   "cell_type": "markdown",
   "metadata": {},
   "source": [
    "## Part 2"
   ]
  },
  {
   "cell_type": "code",
   "execution_count": 39,
   "metadata": {
    "collapsed": false
   },
   "outputs": [
    {
     "name": "stdout",
     "output_type": "stream",
     "text": [
      "4\n"
     ]
    }
   ],
   "source": [
    "#first we work out the amount of copper in each borehole\n",
    "copper = []\n",
    "for i in range(len(conc)):\n",
    "    #can remove the factors at the end here as it won't affect the location\n",
    "    copper.append((conc[i]*thickness[i]*density_cu*100*100)/1000000)\n",
    "\n",
    "max_copper = 0\n",
    "max_loc = -1\n",
    "\n",
    "for i in range(len(copper)-2):\n",
    "    amount = copper[i]+copper[i+1]+copper[i+2]\n",
    "    if(amount > max_copper):\n",
    "        max_copper = amount\n",
    "        max_loc = i+1\n",
    "\n",
    "print(max_loc)\n"
   ]
  }
 ],
 "metadata": {
  "anaconda-cloud": {},
  "kernelspec": {
   "display_name": "Python [default]",
   "language": "python",
   "name": "python3"
  },
  "language_info": {
   "codemirror_mode": {
    "name": "ipython",
    "version": 3
   },
   "file_extension": ".py",
   "mimetype": "text/x-python",
   "name": "python",
   "nbconvert_exporter": "python",
   "pygments_lexer": "ipython3",
   "version": "3.5.2"
  }
 },
 "nbformat": 4,
 "nbformat_minor": 1
}
